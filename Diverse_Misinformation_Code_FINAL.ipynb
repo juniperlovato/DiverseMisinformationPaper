{
  "nbformat": 4,
  "nbformat_minor": 0,
  "metadata": {
    "colab": {
      "provenance": [],
      "collapsed_sections": [],
      "toc_visible": true,
      "authorship_tag": "ABX9TyOYU6yrGokSClaV3UwyB0pC",
      "include_colab_link": true
    },
    "kernelspec": {
      "name": "python3",
      "display_name": "Python 3"
    },
    "language_info": {
      "name": "python"
    }
  },
  "cells": [
    {
      "cell_type": "markdown",
      "metadata": {
        "id": "view-in-github",
        "colab_type": "text"
      },
      "source": [
        "<a href=\"https://colab.research.google.com/github/juniperlovato/DiverseMisinformationPaper/blob/main/Diverse_Misinformation_Code_FINAL.ipynb\" target=\"_parent\"><img src=\"https://colab.research.google.com/assets/colab-badge.svg\" alt=\"Open In Colab\"/></a>"
      ]
    },
    {
      "cell_type": "markdown",
      "source": [
        "Code related to the Diverse Misinformation Paper by Lovato et al. 2022\n",
        "\n",
        "Title: Diverse Misinformation: impacts of human biases on detection of deepfakes on online social networks\n",
        "Cite as: Lovato et al. Diverse Misinformation: impacts of human biases on detection of deepfakes on online social networks (2022).\n",
        "link to ArXiv pre-print [coming soon]\n",
        "Contact: Juniper Lovato, University of Vermont, jlovato@uvm.edu\n",
        "Authors and data collectors: Juniper Lovato1, Laurent H ́ebert-Dufresne1,2, Jonathan St-Onge1, Randall Harp1,3, , Gabriela Salazar Lopez1, Ijaz Ul Haq1, Sean Rogers1, AnneMarie Stupinski1, and Jeremiah Onaolapo. 1Vermont Complex Systems Center, University of Vermont, Burlington, 05405, USA2Department of Computer Science, University of Vermont, Burlington, 05405, USA3Department of Philosophy, University of Vermont, Burlington, 05405, USA\n",
        "Data is a survey panel of US social media users, survey is conducted in English.\n",
        "Keywords: Diversity, Privacy, Security, Social Media Behavior\n",
        "2022 at the University of Vermont\n",
        "IRB CHRBSS (Behavioral) STUDY00001786 Approved 12/6/2022"
      ],
      "metadata": {
        "id": "gSWSbjuhypnh"
      }
    },
    {
      "cell_type": "markdown",
      "source": [
        "#imports"
      ],
      "metadata": {
        "id": "LKwS8kKPhsl5"
      }
    },
    {
      "cell_type": "code",
      "source": [
        "import numpy as np\n",
        "import pandas as pd\n",
        "import os\n",
        "from utils import *\n",
        "\n",
        "#Sklearn \n",
        "from sklearn.preprocessing import OneHotEncoder\n",
        "from sklearn.preprocessing import StandardScaler\n",
        "from sklearn.model_selection import train_test_split\n",
        "from sklearn.linear_model import LogisticRegression\n",
        "from sklearn.decomposition import PCA\n",
        "from sklearn.metrics import confusion_matrix, ConfusionMatrixDisplay\n",
        "from sklearn import datasets, linear_model\n",
        "from sklearn.metrics import mean_squared_error, r2_score\n",
        "from sklearn.metrics import matthews_corrcoef\n",
        "\n",
        "#Stats imports\n",
        "import statsmodels.api as sm\n",
        "import researchpy as rp\n",
        "import scipy.stats as stats\n",
        "from scipy.stats import mannwhitneyu, normaltest\n",
        "from scipy.stats import spearmanr\n",
        "from statsmodels.stats.multitest import multipletests\n",
        "\n",
        "\n",
        "# Plot settings\n",
        "import plotly.express as px\n",
        "import seaborn as sns \n",
        "import matplotlib.pyplot as plt\n",
        "%matplotlib inline\n",
        "plt.rcParams['figure.figsize'] = (12, 9)\n",
        "plt.rcParams['font.size'] = 12\n",
        "from string import ascii_letters"
      ],
      "metadata": {
        "id": "SHKIh0Juh9SG"
      },
      "execution_count": null,
      "outputs": []
    },
    {
      "cell_type": "code",
      "source": [
        "encodeddata = pd.read_csv('filename.csv')"
      ],
      "metadata": {
        "id": "wiTs7vF1i5bQ"
      },
      "execution_count": null,
      "outputs": []
    },
    {
      "cell_type": "code",
      "source": [
        "encoddeddatav1 = encodeddata[['v1_agree_being_said_to_nom',\n",
        "                              'v1_recognize_to_nom',\n",
        "                              'v1_credible_to_nom',\n",
        "                              'v1_authentic_to_nom',\n",
        "                              'Vid1_is_fake',\n",
        "                              'Vid1_is_not_fake',\n",
        "                              'Region',\n",
        "                              'v1_Gaze_to_ord_scale',\n",
        "                              'v1_Facial_expression_to_ord_scale',\n",
        "                              'v1_Pose_to_ord_scale',\n",
        "                              'v1_Personality_to_ord_scale',\n",
        "                              'v1_Hair_to_ord_scale',\n",
        "                              'v1_Style_to_ord_scale',\n",
        "                              'v1_Age_to_ord_scale',\n",
        "                              'v1_Background_environment_to_ord_scale',\n",
        "                              'v1_Behavior_to_ord_scale',\n",
        "                              'v1_Movement_to_ord_scale',\n",
        "                              'v1_voice_to_ord_scale',\n",
        "                              'v1_tone_to_ord_scale',\n",
        "                              'Part_education_level_to_ord_scale',\n",
        "                              'income_to_ord_scale',\n",
        "                              'part_social_media_use_to_ord_scale',\n",
        "                              'part_knowledge_deepfake_to_ord_scale',\n",
        "                              'Part_Primed_to_nom',\n",
        "                              'v1_Part_Guessed_Vid_Real_to_nom',\n",
        "                              'Part_NOT_Primed_to_nom',\n",
        "                              'v1_Part_Guessed_Vid_Fake_to_nom',\n",
        "                              'Part_Gender_Men',\n",
        "                              'Part_Gender_Woman',\n",
        "                              'Part_Age_18_29',\n",
        "                              'Part_Age_30_49',\n",
        "                              'Part_Age_50_64',\n",
        "                              'Part_Age_65plus',\n",
        "                              'part_region_Middle_Atlantic',\n",
        "                              'part_region_Midwest',\n",
        "                              'part_region_South',\n",
        "                              'part_region_Southwest',\n",
        "                              'part_region_newengland',\n",
        "                              'part_region_west',\n",
        "                              'v1_Gender_Guess_Men',\n",
        "                              'v1_Gender_Guess_Women',\n",
        "                              'v1_age_guess_18_29',\n",
        "                              'v1_age_guess_30_49',\n",
        "                              'v1_age_guess_50_64',\n",
        "                              'v1_age_guess_65plus',\n",
        "                              'part_race_POC',\n",
        "                              'part_race_White',\n",
        "                              'v1_POC_Guess_No',\n",
        "                              'v1_POC_Guess_yes',\n",
        "                              'Vid1_Real_Guess_Real',\n",
        "                              'Vid1_Fake_Guess_Real',\n",
        "                              'Vid1_Real_Guess_Fake',\n",
        "                              'Vid1_Fake_Guess_Fake',\n",
        "                              'Part_Woman_POC',\n",
        "                              'Part_Male_POC',\n",
        "                              'Part_Woman_White',\n",
        "                              'Part_Male_White',\n",
        "                              'Video1_Woman_POC',\n",
        "                              'Video1_Woman_White',\n",
        "                              'Video1_Men_POC',\n",
        "                              'Video1_Men_White',\n",
        "                              'Vid1_Male_POC_Match',\n",
        "                              'Vid1_Woman_POC_Match',\n",
        "                              'Vid1_Woman_White_Match',\n",
        "                              'Vid1_Male_White_Match',\n",
        "                              'Vid1_age_1829_Match',\n",
        "                              'Vid1_age_3049_Match',\n",
        "                              'Vid1_age_5064_Match',\n",
        "                              'Vid1_age_over65_Match',\n",
        "                              'Vid1_Male_POC_MisMatch',\n",
        "                              'Vid1_Woman_POC_MisMatch',\n",
        "                              'Vid1_Woman_White_MisMatch',\n",
        "                              'Vid1_Male_White_MisMatch',\n",
        "                              'Vid1_age_1829_MisMatch',\n",
        "                              'Vid1_age_3049_MisMatch',\n",
        "                              'Vid1_age_5064_MisMatch',\n",
        "                              'Vid1_age_over65_MisMatch']]"
      ],
      "metadata": {
        "id": "k0am79nEjo8z"
      },
      "execution_count": null,
      "outputs": []
    },
    {
      "cell_type": "code",
      "source": [
        "encoddeddatav1 = encoddeddatav1.rename(columns={'v1_agree_being_said_to_nom': 'agree_being_said_to_nom',\n",
        "                              'v1_recognize_to_nom' : 'recognize_to_nom',\n",
        "                              'v1_credible_to_nom' : 'credible_to_nom',\n",
        "                              'v1_authentic_to_nom' : 'authentic_to_nom',\n",
        "                              'Vid1_is_fake' : 'is_fake',\n",
        "                              'Vid1_is_not_fake': 'is_not_fake',\n",
        "                              'v1_Gaze_to_ord_scale' : 'Gaze_to_ord_scale',\n",
        "                              'v1_Facial_expression_to_ord_scale' : 'Facial_expression_to_ord_scale',\n",
        "                              'v1_Pose_to_ord_scale' : 'Pose_to_ord_scale',\n",
        "                              'v1_Personality_to_ord_scale' : 'Personality_to_ord_scale',\n",
        "                              'v1_Hair_to_ord_scale' : 'Hair_to_ord_scale',\n",
        "                              'v1_Style_to_ord_scale': 'Style_to_ord_scale',\n",
        "                              'v1_Age_to_ord_scale': 'Age_to_ord_scale',\n",
        "                              'v1_Background_environment_to_ord_scale': 'Background_environment_to_ord_scale',\n",
        "                              'v1_Behavior_to_ord_scale': 'Behavior_to_ord_scale',\n",
        "                              'v1_Movement_to_ord_scale': 'Movement_to_ord_scale',\n",
        "                              'v1_voice_to_ord_scale' : 'voice_to_ord_scale',\n",
        "                              'v1_tone_to_ord_scale': 'tone_to_ord_scale',\n",
        "                              'v1_Part_Guessed_Vid_Real_to_nom': 'Part_Guessed_Vid_Real_to_nom',\n",
        "                              'v1_Part_Guessed_Vid_Fake_to_nom': 'Part_Guessed_Vid_Fake_to_nom',\n",
        "                              'v1_Gender_Guess_Men': 'Gender_Guess_Men',\n",
        "                              'v1_Gender_Guess_Women' : 'Gender_Guess_Women',\n",
        "                              'v1_age_guess_18_29' : 'age_guess_18_29',\n",
        "                              'v1_age_guess_30_49' : 'age_guess_30_49',\n",
        "                              'v1_age_guess_50_64': 'age_guess_50_64',\n",
        "                              'v1_age_guess_65plus' : 'age_guess_65plus',\n",
        "                              'v1_POC_Guess_No' : 'POC_Guess_No',\n",
        "                              'v1_POC_Guess_yes' : 'POC_Guess_yes',\n",
        "                              'Vid1_Real_Guess_Real' : 'Real_Guess_Real',\n",
        "                              'Vid1_Fake_Guess_Real' : 'Fake_Guess_Real',\n",
        "                              'Vid1_Real_Guess_Fake' : 'Real_Guess_Fake',\n",
        "                              'Vid1_Fake_Guess_Fake' : 'Fake_Guess_Fake',\n",
        "                              'Video1_Woman_POC' : 'Woman_POC',\n",
        "                              'Video1_Woman_White': 'Woman_White',\n",
        "                              'Video1_Men_POC' : 'Men_POC',\n",
        "                              'Video1_Men_White': 'Men_White',\n",
        "                              'Vid1_Male_POC_Match' : 'Male_POC_Match',\n",
        "                              'Vid1_Woman_POC_Match' : 'Woman_POC_Match',\n",
        "                              'Vid1_Woman_White_Match':'Woman_White_Match',\n",
        "                              'Vid1_Male_White_Match': 'Male_White_Match',\n",
        "                              'Vid1_age_1829_Match': 'age_1829_Match',\n",
        "                              'Vid1_age_3049_Match': 'age_3049_Match',\n",
        "                              'Vid1_age_5064_Match': 'age_5064_Match',\n",
        "                              'Vid1_age_over65_Match': 'age_over65_Match',\n",
        "                              'Vid1_Male_POC_MisMatch': 'Male_POC_MisMatch',\n",
        "                              'Vid1_Woman_POC_MisMatch': 'Woman_POC_MisMatch',\n",
        "                              'Vid1_Woman_White_MisMatch': 'Woman_White_MisMatch',\n",
        "                              'Vid1_Male_White_MisMatch': 'Male_White_MisMatch',\n",
        "                              'Vid1_age_1829_MisMatch': 'age_1829_MisMatch',\n",
        "                              'Vid1_age_3049_MisMatch': 'age_3049_MisMatch',\n",
        "                              'Vid1_age_5064_MisMatch': 'age_5064_MisMatch',\n",
        "                              'Vid1_age_over65_MisMatch': 'age_over65_MisMatch'})"
      ],
      "metadata": {
        "id": "gRlH7xTCjpE3"
      },
      "execution_count": null,
      "outputs": []
    },
    {
      "cell_type": "code",
      "source": [
        "encoddeddatav2 = encodeddata[['v2_agree_being_said_to_nom',\n",
        "                             'v2_recognize_to_nom',\n",
        "                             'v2_credible_to_nom',\n",
        "                             'v2_authentic_to_nom',\n",
        "                             'Vid2_is_fake',\n",
        "                             'Vid2_is_not_fake',\n",
        "                             'Region',\n",
        "                             'v2_Gaze_to_ord_scale',\n",
        "                             'v2_Facial_expression_to_ord_scale',\n",
        "                             'v2_Pose_to_ord_scale',\n",
        "                             'v2_Personality_to_ord_scale',\n",
        "                             'v2_Hair_to_ord_scale',\n",
        "                             'v2_Style_to_ord_scale',\n",
        "                             'v2_Age_to_ord_scale',\n",
        "                             'v2_Background_environment_to_ord_scale',\n",
        "                             'v2_Behavior_to_ord_scale',\n",
        "                             'v2_Movement_to_ord_scale',\n",
        "                             'v2_voice_to_ord_scale',\n",
        "                             'v2_tone_to_ord_scale',\n",
        "                             'Part_education_level_to_ord_scale',\n",
        "                             'income_to_ord_scale',\n",
        "                             'part_social_media_use_to_ord_scale',\n",
        "                             'part_knowledge_deepfake_to_ord_scale',\n",
        "                             'Part_Primed_to_nom',\n",
        "                             'v2_Part_Guessed_Vid_Real_to_nom',\n",
        "                             'Part_NOT_Primed_to_nom',\n",
        "                             'v2_Part_Guessed_Vid_Fake_to_nom',\n",
        "                             'Part_Gender_Men',\n",
        "                             'Part_Gender_Woman',\n",
        "                             'Part_Age_18_29',\n",
        "                             'Part_Age_30_49',\n",
        "                             'Part_Age_50_64',\n",
        "                             'Part_Age_65plus',\n",
        "                             'part_region_Middle_Atlantic',\n",
        "                             'part_region_Midwest',\n",
        "                             'part_region_South',\n",
        "                             'part_region_Southwest',\n",
        "                             'part_region_newengland',\n",
        "                             'part_region_west',\n",
        "                             'v2_Gender_Guess_Men',\n",
        "                             'v2_Gender_Guess_Women',\n",
        "                             'v2_age_guess_18_29',\n",
        "                             'v2_age_guess_30_49',\n",
        "                             'v2_age_guess_50_64',\n",
        "                             'v2_age_guess_65plus',\n",
        "                             'part_race_POC',\n",
        "                             'part_race_White',\n",
        "                             'v2_POC_Guess_No',\n",
        "                             'v2_POC_Guess_yes',\n",
        "                             'Vid2_Real_Guess_Real',\n",
        "                             'Vid2_Fake_Guess_Real',\n",
        "                             'Vid2_Real_Guess_Fake',\n",
        "                             'Vid2_Fake_Guess_Fake',\n",
        "                             'Part_Woman_POC',\n",
        "                             'Part_Male_POC',\n",
        "                             'Part_Woman_White',\n",
        "                             'Part_Male_White',\n",
        "                             'Video2_Woman_POC',\n",
        "                             'Video2_Woman_White',\n",
        "                             'Video2_Men_POC',\n",
        "                             'Video2_Men_White',\n",
        "                             'Vid2_Male_POC_Match',\n",
        "                             'Vid2_Woman_POC_Match',\n",
        "                             'Vid2_Woman_White_Match',\n",
        "                             'Vid2_Male_White_Match',\n",
        "                             'Vid2_age_1829_Match',\n",
        "                             'Vid2_age_3049_Match',\n",
        "                             'Vid2_age_5064_Match',\n",
        "                             'Vid2_age_over65_Match',\n",
        "                             'Vid2_Male_POC_MisMatch',\n",
        "                             'Vid2_Woman_POC_MisMatch',\n",
        "                             'Vid2_Woman_White_MisMatch',\n",
        "                             'Vid2_Male_White_MisMatch',\n",
        "                             'Vid2_age_1829_MisMatch',\n",
        "                             'Vid2_age_3049_MisMatch',\n",
        "                             'Vid2_age_5064_MisMatch',\n",
        "                             'Vid2_age_over65_MisMatch']]"
      ],
      "metadata": {
        "id": "Ox9vNEqojtxI"
      },
      "execution_count": null,
      "outputs": []
    },
    {
      "cell_type": "code",
      "source": [
        "encoddeddatav2 = encoddeddatav2.rename(columns={'v2_agree_being_said_to_nom': 'agree_being_said_to_nom',\n",
        "                             'v2_recognize_to_nom' : 'recognize_to_nom',\n",
        "                             'v2_credible_to_nom' : 'credible_to_nom',\n",
        "                             'v2_authentic_to_nom' : 'authentic_to_nom',\n",
        "                             'Vid2_is_fake' : 'is_fake',\n",
        "                             'Vid2_is_not_fake': 'is_not_fake',\n",
        "                             'v2_Gaze_to_ord_scale' : 'Gaze_to_ord_scale',\n",
        "                             'v2_Facial_expression_to_ord_scale' : 'Facial_expression_to_ord_scale',\n",
        "                             'v2_Pose_to_ord_scale' : 'Pose_to_ord_scale',\n",
        "                             'v2_Personality_to_ord_scale' : 'Personality_to_ord_scale',\n",
        "                             'v2_Hair_to_ord_scale' : 'Hair_to_ord_scale',\n",
        "                             'v2_Style_to_ord_scale': 'Style_to_ord_scale',\n",
        "                             'v2_Age_to_ord_scale': 'Age_to_ord_scale',\n",
        "                             'v2_Background_environment_to_ord_scale': 'Background_environment_to_ord_scale',\n",
        "                             'v2_Behavior_to_ord_scale': 'Behavior_to_ord_scale',\n",
        "                             'v2_Movement_to_ord_scale': 'Movement_to_ord_scale',\n",
        "                             'v2_voice_to_ord_scale' : 'voice_to_ord_scale',\n",
        "                             'v2_tone_to_ord_scale': 'tone_to_ord_scale',\n",
        "                             'v2_Part_Guessed_Vid_Real_to_nom': 'Part_Guessed_Vid_Real_to_nom',\n",
        "                             'v2_Part_Guessed_Vid_Fake_to_nom': 'Part_Guessed_Vid_Fake_to_nom',\n",
        "                             'v2_Gender_Guess_Men': 'Gender_Guess_Men',\n",
        "                             'v2_Gender_Guess_Women' : 'Gender_Guess_Women',\n",
        "                             'v2_age_guess_18_29' : 'age_guess_18_29',\n",
        "                             'v2_age_guess_30_49' : 'age_guess_30_49',\n",
        "                             'v2_age_guess_50_64': 'age_guess_50_64',\n",
        "                             'v2_age_guess_65plus' : 'age_guess_65plus',\n",
        "                             'v2_POC_Guess_No' : 'POC_Guess_No',\n",
        "                             'v2_POC_Guess_yes' : 'POC_Guess_yes',\n",
        "                             'Vid2_Real_Guess_Real' : 'Real_Guess_Real',\n",
        "                             'Vid2_Fake_Guess_Real' : 'Fake_Guess_Real',\n",
        "                             'Vid2_Real_Guess_Fake' : 'Real_Guess_Fake',\n",
        "                             'Vid2_Fake_Guess_Fake' : 'Fake_Guess_Fake',\n",
        "                             'Video2_Woman_POC' : 'Woman_POC',\n",
        "                             'Video2_Woman_White': 'Woman_White',\n",
        "                             'Video2_Men_POC' : 'Men_POC',\n",
        "                             'Video2_Men_White': 'Men_White',\n",
        "                             'Vid2_Male_POC_Match' : 'Male_POC_Match',\n",
        "                             'Vid2_Woman_POC_Match' : 'Woman_POC_Match',\n",
        "                             'Vid2_Woman_White_Match':'Woman_White_Match',\n",
        "                             'Vid2_Male_White_Match': 'Male_White_Match',\n",
        "                             'Vid2_age_1829_Match': 'age_1829_Match',\n",
        "                             'Vid2_age_3049_Match': 'age_3049_Match',\n",
        "                             'Vid2_age_5064_Match': 'age_5064_Match',\n",
        "                             'Vid2_age_over65_Match': 'age_over65_Match',\n",
        "                             'Vid2_Male_POC_MisMatch': 'Male_POC_MisMatch',\n",
        "                             'Vid2_Woman_POC_MisMatch': 'Woman_POC_MisMatch',\n",
        "                             'Vid2_Woman_White_MisMatch': 'Woman_White_MisMatch',\n",
        "                             'Vid2_Male_White_MisMatch': 'Male_White_MisMatch',\n",
        "                             'Vid2_age_1829_MisMatch': 'age_1829_MisMatch',\n",
        "                             'Vid2_age_3049_MisMatch': 'age_3049_MisMatch',\n",
        "                             'Vid2_age_5064_MisMatch': 'age_5064_MisMatch',\n",
        "                             'Vid2_age_over65_MisMatch': 'age_over65_MisMatch'})"
      ],
      "metadata": {
        "id": "vxi46baUjv05"
      },
      "execution_count": null,
      "outputs": []
    },
    {
      "cell_type": "code",
      "source": [
        "#append video one dataframe to video 2 data frame \n",
        "AllVids_encodeddata = encoddeddatav1.append(encoddeddatav2)"
      ],
      "metadata": {
        "id": "fzlksmuijxUB"
      },
      "execution_count": null,
      "outputs": []
    },
    {
      "cell_type": "code",
      "source": [
        "#making all maybe/uncertain variables numeric \n",
        "AllVids_encodeddata = AllVids_encodeddata.replace({'Maybe': 0})\n",
        "AllVids_encodeddata = AllVids_encodeddata.replace({'Uncertain': 0})"
      ],
      "metadata": {
        "id": "FQkd2pxCjzQ8"
      },
      "execution_count": null,
      "outputs": []
    },
    {
      "cell_type": "code",
      "source": [
        "#get dummy variables for regions \n",
        "AllVids_encodeddata = pd.get_dummies(AllVids_encodeddata, columns = ['Region'], drop_first = True)\n"
      ],
      "metadata": {
        "id": "VWtDUTO9kDL7"
      },
      "execution_count": null,
      "outputs": []
    },
    {
      "cell_type": "code",
      "source": [
        "#drop nans\n",
        "AllVids_encodeddata = AllVids_encodeddata.dropna()"
      ],
      "metadata": {
        "id": "95rTbv7xkL0z"
      },
      "execution_count": null,
      "outputs": []
    },
    {
      "cell_type": "markdown",
      "source": [
        "#Question 1: Priming effect: Are there categories of human beings better at correctly classifying a deepfake video if primed about deepfake content before being exposed?"
      ],
      "metadata": {
        "id": "IiJ2LX6wkVHl"
      }
    },
    {
      "cell_type": "markdown",
      "source": [
        "##variable: knowledgable about deepfakes "
      ],
      "metadata": {
        "id": "9WQwiIKsma6f"
      }
    },
    {
      "cell_type": "code",
      "source": [
        "#the function returns knowledgable and not knowledgable participants guesses and the actual answers to the video being real or not \n",
        "\n",
        "def rho_knows_DF_guesses(x):\n",
        "    if x['part_knowledge_deepfake_to_ord_scale'] >= 3:\n",
        "      return x['Part_Guessed_Vid_Fake_to_nom']\n",
        "    else:\n",
        "      return np.nan\n",
        "AllVids_encodeddata['rho_knows_DF_guesses'] = AllVids_encodeddata.apply(rho_knows_DF_guesses, axis=1)\n",
        "\n",
        "\n",
        "def rho_knows_DF_Answers(x):\n",
        "    if x['part_knowledge_deepfake_to_ord_scale'] >= 3:\n",
        "      return x['is_fake']\n",
        "    else:\n",
        "      return np.nan\n",
        "AllVids_encodeddata['rho_knows_DF_Answers'] = AllVids_encodeddata.apply(rho_knows_DF_Answers, axis=1)\n",
        "\n",
        "def rho_doesnt_know_DF_guesses(x):\n",
        "    if x['part_knowledge_deepfake_to_ord_scale'] <= 2:\n",
        "      return x['Part_Guessed_Vid_Fake_to_nom']\n",
        "    else:\n",
        "      return np.nan\n",
        "AllVids_encodeddata['rho_doesnt_know_DF_guesses'] = AllVids_encodeddata.apply(rho_doesnt_know_DF_guesses, axis=1)\n",
        "\n",
        "\n",
        "def rho_doesnt_know_DF_Answers(x):\n",
        "    if x['part_knowledge_deepfake_to_ord_scale'] <= 2:\n",
        "      return x['is_fake']\n",
        "    else:\n",
        "      return np.nan\n",
        "AllVids_encodeddata['rho_doesnt_know_DF_Answers'] = AllVids_encodeddata.apply(rho_doesnt_know_DF_Answers, axis=1)"
      ],
      "metadata": {
        "id": "-QuCIrUakWyW"
      },
      "execution_count": null,
      "outputs": []
    },
    {
      "cell_type": "code",
      "source": [
        "#drop nans \n",
        "rho_doesnt_know_DF_Answers_toarray = np.array(AllVids_encodeddata['rho_doesnt_know_DF_Answers'].dropna())\n",
        "rho_knows_DF_Answers_toarray = np.array(AllVids_encodeddata['rho_knows_DF_Answers'].dropna())\n",
        "rho_knows_DF_guessesto_array = np.array(AllVids_encodeddata['rho_knows_DF_guesses'].dropna())\n",
        "rho_doesnt_know_DF_guessesto_array = np.array(AllVids_encodeddata['rho_doesnt_know_DF_guesses'].dropna())"
      ],
      "metadata": {
        "id": "464vF0sPkaeR"
      },
      "execution_count": null,
      "outputs": []
    },
    {
      "cell_type": "code",
      "source": [
        "#getting the spearman correlation coefficient for knowledgable correct answers to participant guesses about the videos \n",
        "corr1spearman_know = scipy.stats.spearmanr(rho_knows_DF_Answers_toarray, rho_knows_DF_guessesto_array)\n",
        "print(corr1spearman_know)"
      ],
      "metadata": {
        "id": "ueEerBsxkh8q"
      },
      "execution_count": null,
      "outputs": []
    },
    {
      "cell_type": "code",
      "source": [
        "#getting the spearman correlation coefficient for not knowledable about deepfakes answer to participant guesses about the videos \n",
        "corr1spearman_notknow = scipy.stats.spearmanr(rho_doesnt_know_DF_Answers_toarray, rho_doesnt_know_DF_guessesto_array)\n",
        "print(corr1spearman_notknow)\n"
      ],
      "metadata": {
        "id": "IVAEvSOAkzCI"
      },
      "execution_count": null,
      "outputs": []
    },
    {
      "cell_type": "code",
      "source": [
        "#Matthews Correlation Coefficient for knowledable about deepfakes answer to participant guesses about the videos \n",
        "y_true_know = rho_knows_DF_Answers_toarray\n",
        "y_pred_know = rho_knows_DF_guessesto_array\n",
        "print(matthews_corrcoef(y_true_know, y_pred_know))"
      ],
      "metadata": {
        "id": "wlx9PLJalexT"
      },
      "execution_count": null,
      "outputs": []
    },
    {
      "cell_type": "code",
      "source": [
        "#Confusion Matrix for knowledable about deepfakes answer to participant guesses about the videos \n",
        "cm75 = confusion_matrix(y_true_know, y_pred_know, normalize='all')\n",
        "print(cm75)\n",
        "\n",
        "ax= plt.subplot()\n",
        "sns.heatmap(cm75, annot=True, fmt='g', ax=ax, cmap=\"YlGnBu\", vmin=0, vmax=1);  #annot=True to annotate cells, ftm='g' to disable scientific notation\n",
        "\n",
        "# labels, title and ticks\n",
        "ax.set_xlabel('Participant Guess');ax.set_ylabel('Video Actual State'); \n",
        "ax.set_title('Confusion Matrix: Participants with deepfake knowledge \\n Guess vs. Actual', multialignment='center', fontsize=18); \n",
        "plt.tight_layout()"
      ],
      "metadata": {
        "id": "wzlYTouDlz-E"
      },
      "execution_count": null,
      "outputs": []
    },
    {
      "cell_type": "code",
      "source": [
        "#Matthews Correlation Coefficient for not knowledable about deepfakes answer to participant guesses about the videos \n",
        "y_true_notknow = rho_doesnt_know_DF_Answers_toarray\n",
        "y_pred_notknow = rho_doesnt_know_DF_guessesto_array\n",
        "\n",
        "print(matthews_corrcoef(y_true_notknow, y_pred_notknow))"
      ],
      "metadata": {
        "id": "HeizJNnql6i5"
      },
      "execution_count": null,
      "outputs": []
    },
    {
      "cell_type": "code",
      "source": [
        "#Confusion Matrix for not knowledable about deepfakes answer to participant guesses about the videos \n",
        "\n",
        "cm74 = confusion_matrix(y_true_notknow, y_pred_notknow, normalize='all')\n",
        "\n",
        "print(cm74)\n",
        "ax= plt.subplot()\n",
        "sns.heatmap(cm74, annot=True, fmt='g', ax=ax, cmap=\"YlGnBu\", vmin=0, vmax=1);  #annot=True to annotate cells, ftm='g' to disable scientific notation\n",
        "\n",
        "# labels, title and ticks\n",
        "ax.set_xlabel('Participant Guess');ax.set_ylabel('Video Actual State'); \n",
        "ax.set_title('Confusion Matrix: Participants with no deepfake knowledge \\n Guess vs. Actual', multialignment='center', fontsize=18); \n",
        "plt.tight_layout()"
      ],
      "metadata": {
        "id": "SV3Cet6xmMPc"
      },
      "execution_count": null,
      "outputs": []
    },
    {
      "cell_type": "markdown",
      "source": [
        "##Variable: social media usage"
      ],
      "metadata": {
        "id": "DeUHQQRfmYaV"
      }
    },
    {
      "cell_type": "code",
      "source": [
        "#splitting social media usage into two types frequent or infrequent social media user \n",
        "def rho_part_not_socialmedia_savvy_guesses(x):\n",
        "    if x['part_social_media_use_to_ord_scale'] <= 4:\n",
        "      return x['Part_Guessed_Vid_Fake_to_nom']\n",
        "    else:\n",
        "      return np.nan\n",
        "AllVids_encodeddata['rho_part_not_socialmedia_savvy_guesses'] = AllVids_encodeddata.apply(rho_part_not_socialmedia_savvy_guesses, axis=1)\n",
        "\n",
        "\n",
        "def rho_part_socialmedia_savvy_guesses(x):\n",
        "    if x['part_social_media_use_to_ord_scale'] >= 5:\n",
        "      return x['Part_Guessed_Vid_Fake_to_nom']\n",
        "    else:\n",
        "      return np.nan\n",
        "AllVids_encodeddata['rho_part_socialmedia_savvy_guesses'] = AllVids_encodeddata.apply(rho_part_socialmedia_savvy_guesses, axis=1)\n",
        "\n",
        "#Answers \n",
        "\n",
        "def rho_part_not_socialmedia_savvy_Answers (x):\n",
        "    if x['part_social_media_use_to_ord_scale'] <= 4:\n",
        "      return x['is_fake']\n",
        "    else:\n",
        "      return np.nan\n",
        "AllVids_encodeddata['rho_part_not_socialmedia_savvy_Answers'] = AllVids_encodeddata.apply(rho_part_not_socialmedia_savvy_Answers, axis=1)\n",
        "\n",
        "def rho_part_socialmedia_savvy_Answers (x):\n",
        "    if x['part_social_media_use_to_ord_scale'] >= 5:\n",
        "      return x['is_fake']\n",
        "    else:\n",
        "      return np.nan\n",
        "AllVids_encodeddata['rho_part_socialmedia_savvy_Answers'] = AllVids_encodeddata.apply(rho_part_socialmedia_savvy_Answers, axis=1)\n",
        "\n",
        "\n",
        "AllVids_encodeddata['rho_part_socialmedia_savvy_Answers'].astype(float)\n",
        "AllVids_encodeddata['rho_part_not_socialmedia_savvy_Answers'].astype(float)\n",
        "AllVids_encodeddata['rho_part_socialmedia_savvy_guesses'].astype(float)\n",
        "AllVids_encodeddata['rho_part_not_socialmedia_savvy_guesses'].astype(float)\n"
      ],
      "metadata": {
        "id": "3WMDMstVmR_Z"
      },
      "execution_count": null,
      "outputs": []
    },
    {
      "cell_type": "code",
      "source": [
        "#making arrays for all guesses and answers \n",
        "rho_sm_savvy_guesses_array = np.array(AllVids_encodeddata['rho_part_socialmedia_savvy_guesses'].dropna())\n",
        "rho_not_sm_savvy_guesses_array = np.array(AllVids_encodeddata['rho_part_not_socialmedia_savvy_guesses'].dropna())\n",
        "rho_sm_savvy_Answers_array = np.array(AllVids_encodeddata['rho_part_socialmedia_savvy_Answers'].dropna())\n",
        "rho_not_sm_savvy_Answers_array = np.array(AllVids_encodeddata['rho_part_not_socialmedia_savvy_Answers'].dropna())\n"
      ],
      "metadata": {
        "id": "RZ_bKTOdmr22"
      },
      "execution_count": null,
      "outputs": []
    },
    {
      "cell_type": "code",
      "source": [
        "#spearman correlation coefficient for frequent social media user guesses and answers \n",
        "corr2spearman_sm_savvy = scipy.stats.spearmanr(rho_sm_savvy_guesses_array, rho_sm_savvy_Answers_array)\n",
        "print(corr2spearman_sm_savvy)\n"
      ],
      "metadata": {
        "id": "h4fHStZkm0EG"
      },
      "execution_count": null,
      "outputs": []
    },
    {
      "cell_type": "code",
      "source": [
        "#spearman correlation coefficient for infrequent social media user guesses and answers \n",
        "corr2spearman_not_sm_savvy = scipy.stats.spearmanr(rho_not_sm_savvy_guesses_array, rho_not_sm_savvy_Answers_array)\n",
        "print(corr2spearman_not_sm_savvy)\n"
      ],
      "metadata": {
        "id": "fuoIdMPpm9J4"
      },
      "execution_count": null,
      "outputs": []
    },
    {
      "cell_type": "code",
      "source": [
        "#matthews correlation coefficient for frequent social media user guesses and answers \n",
        "\n",
        "y_true2_sm_savvy = rho_sm_savvy_guesses_array\n",
        "y_pred2_sm_savvy = rho_sm_savvy_Answers_array\n",
        "\n",
        "matthews_corrcoef(y_true2_sm_savvy, y_pred2_sm_savvy)\n"
      ],
      "metadata": {
        "id": "CDpqGAJKnAz_"
      },
      "execution_count": null,
      "outputs": []
    },
    {
      "cell_type": "code",
      "source": [
        "#Confusion matrix for frequent social media user guesses and answers \n",
        "\n",
        "cm73 = confusion_matrix(y_true2_sm_savvy, y_pred2_sm_savvy, normalize='all')\n",
        "print(cm73)\n",
        "\n",
        "ax= plt.subplot()\n",
        "sns.heatmap(cm73, annot=True, fmt='g', ax=ax, cmap=\"YlGnBu\", vmin=0, vmax=1);  #annot=True to annotate cells, ftm='g' to disable scientific notation\n",
        "\n",
        "# labels, title and ticks\n",
        "ax.set_xlabel('Participant Guess');ax.set_ylabel('Video Actual State'); \n",
        "ax.set_title('Confusion Matrix: Participants social media savvy \\n Guess vs. Actual', multialignment='center', fontsize=18);\n",
        "plt.tight_layout()"
      ],
      "metadata": {
        "id": "oMS7i5BonJAc"
      },
      "execution_count": null,
      "outputs": []
    },
    {
      "cell_type": "code",
      "source": [
        "#matthews correlation coefficient for infrequent social media user guesses and answers \n",
        "y_true2_not_sm_savvy = rho_not_sm_savvy_guesses_array\n",
        "y_pred2_not_sm_savvy = rho_not_sm_savvy_Answers_array\n",
        "\n",
        "matthews_corrcoef(y_true2_not_sm_savvy, y_pred2_not_sm_savvy)\n"
      ],
      "metadata": {
        "id": "9CJJzMeDnFty"
      },
      "execution_count": null,
      "outputs": []
    },
    {
      "cell_type": "code",
      "source": [
        "#Confusion matrix for infrequent social media user guesses and answers \n",
        "cm72 = confusion_matrix(y_true2_not_sm_savvy, y_pred2_not_sm_savvy, normalize='all')\n",
        "print(cm72)\n",
        "\n",
        "ax= plt.subplot()\n",
        "sns.heatmap(cm72, annot=True, fmt='g', ax=ax, cmap=\"YlGnBu\", vmin=0, vmax=1);  #annot=True to annotate cells, ftm='g' to disable scientific notation\n",
        "\n",
        "# labels, title and ticks\n",
        "ax.set_xlabel('Participant Guess');ax.set_ylabel('Video Actual State'); \n",
        "ax.set_title('Confusion Matrix: Participants not social media savvy \\n Guess vs. Actual', multialignment='center', fontsize=18);  \n",
        "plt.tight_layout()"
      ],
      "metadata": {
        "id": "Okgg7Y4lnONP"
      },
      "execution_count": null,
      "outputs": []
    },
    {
      "cell_type": "markdown",
      "source": [
        "#Question 2: Homophily bias: Are there categories of human beings better at detecting a deepfake video if the persona in the video matches their own identity?"
      ],
      "metadata": {
        "id": "UOvYJJNRnTP1"
      }
    },
    {
      "cell_type": "code",
      "source": [
        "#the function returns matched participants guesses and the actual answers to the video being real or not\n",
        "\n",
        "##male POC \n",
        "def rho_Male_POC_Match_guesses(x):\n",
        "  if x['Male_POC_Match'] == 1:\n",
        "    return x['Part_Guessed_Vid_Fake_to_nom']\n",
        "  else:\n",
        "    return np.nan\n",
        "\n",
        "AllVids_encodeddata['rho_Male_POC_Match_guesses'] = AllVids_encodeddata.apply(rho_Male_POC_Match_guesses, axis=1)\n",
        "\n",
        "def rho_Male_POC_Match_answers(x):\n",
        "  if x['Male_POC_Match'] == 1:\n",
        "    return x['is_fake']\n",
        "  else:\n",
        "    return np.nan\n",
        "\n",
        "AllVids_encodeddata['rho_Male_POC_Match_answers'] = AllVids_encodeddata.apply(rho_Male_POC_Match_answers, axis=1)\n",
        "\n",
        "##Woman POC  \n",
        "def rho_Woman_POC_Match_guesses(x):\n",
        "  if x['Woman_POC_Match'] == 1:\n",
        "    return x['Part_Guessed_Vid_Fake_to_nom']\n",
        "  else:\n",
        "    return np.nan\n",
        "\n",
        "AllVids_encodeddata['rho_Woman_POC_Match_guesses'] = AllVids_encodeddata.apply(rho_Woman_POC_Match_guesses, axis=1)\n",
        "\n",
        "def rho_Woman_POC_Match_answers(x):\n",
        "  if x['Woman_POC_Match'] == 1:\n",
        "    return x['is_fake']\n",
        "  else:\n",
        "    return np.nan\n",
        "\n",
        "AllVids_encodeddata['rho_Woman_POC_Match_answers'] = AllVids_encodeddata.apply(rho_Woman_POC_Match_answers, axis=1)\n",
        "\n",
        "##Woman white \n",
        "\n",
        "def rho_Woman_White_Match_guesses(x):\n",
        "  if x['Woman_White_Match'] == 1:\n",
        "    return x['Part_Guessed_Vid_Fake_to_nom']\n",
        "  else:\n",
        "    return np.nan\n",
        "\n",
        "AllVids_encodeddata['rho_Woman_White_Match_guesses'] = AllVids_encodeddata.apply(rho_Woman_White_Match_guesses, axis=1)\n",
        "\n",
        "def rho_Woman_White_Match_answers(x):\n",
        "  if x['Woman_White_Match'] == 1:\n",
        "    return x['is_fake']\n",
        "  else:\n",
        "    return np.nan\n",
        "\n",
        "AllVids_encodeddata['rho_Woman_White_Match_answers'] = AllVids_encodeddata.apply(rho_Woman_White_Match_answers, axis=1)\n",
        "\n",
        "##male white\n",
        "def rho_Male_White_Match_guesses(x):\n",
        "  if x['Male_White_Match'] == 1:\n",
        "    return x['Part_Guessed_Vid_Fake_to_nom']\n",
        "  else:\n",
        "    return np.nan\n",
        "\n",
        "AllVids_encodeddata['rho_Male_White_Match_guesses'] = AllVids_encodeddata.apply(rho_Male_White_Match_guesses, axis=1)\n",
        "\n",
        "def rho_Male_White_Match_answers(x):\n",
        "  if x['Male_White_Match'] == 1:\n",
        "    return x['is_fake']\n",
        "  else:\n",
        "    return np.nan\n",
        "\n",
        "AllVids_encodeddata['rho_Male_White_Match_answers'] = AllVids_encodeddata.apply(rho_Male_White_Match_answers, axis=1)\n",
        "\n"
      ],
      "metadata": {
        "id": "GFjZH7g2nWnb"
      },
      "execution_count": null,
      "outputs": []
    },
    {
      "cell_type": "code",
      "source": [
        "#making guesses and answers arrays \n",
        "#Male_POC_Match arrays\n",
        "rho_Male_POC_Match_guesses_array = np.array(AllVids_encodeddata['rho_Male_POC_Match_guesses'].dropna())\n",
        "rho_Male_POC_Match_answers_array = np.array(AllVids_encodeddata['rho_Male_POC_Match_answers'].dropna())\n",
        "#rho_Woman_POC_Match\n",
        "rho_Woman_POC_Match_guesses_array = np.array(AllVids_encodeddata['rho_Woman_POC_Match_guesses'].dropna())\n",
        "rho_Woman_POC_Match_answers_array = np.array(AllVids_encodeddata['rho_Woman_POC_Match_answers'].dropna())\n",
        "#rho_Woman_White_Match\n",
        "rho_Woman_White_Match_guesses_array = np.array(AllVids_encodeddata['rho_Woman_White_Match_guesses'].dropna())\n",
        "rho_Woman_White_Match_answers_array = np.array(AllVids_encodeddata['rho_Woman_White_Match_answers'].dropna())\n",
        "#rho_Male_White_Match\n",
        "rho_Male_White_Match_guesses_array = np.array(AllVids_encodeddata['rho_Male_White_Match_guesses'].dropna())\n",
        "rho_Male_White_Match_answers_array = np.array(AllVids_encodeddata['rho_Male_White_Match_answers'].dropna())"
      ],
      "metadata": {
        "id": "QdHB-ZX1navO"
      },
      "execution_count": null,
      "outputs": []
    },
    {
      "cell_type": "code",
      "source": [
        "#spearman correlation coefficient between male poc match guesses to answers\n",
        "corr2spearman_Male_POC_Match = scipy.stats.spearmanr(rho_Male_POC_Match_guesses_array, rho_Male_POC_Match_answers_array)\n",
        "\n",
        "print(corr2spearman_Male_POC_Match)\n"
      ],
      "metadata": {
        "id": "3tg4Cyctnm7a"
      },
      "execution_count": null,
      "outputs": []
    },
    {
      "cell_type": "code",
      "source": [
        "#matthews correlation coefficient between male poc match guesses to answers\n",
        "y_true_Male_POC_Match= rho_Male_POC_Match_answers_array\n",
        "y_pred_Male_POC_Match = rho_Male_POC_Match_guesses_array\n",
        "\n",
        "print(matthews_corrcoef(y_true_Male_POC_Match, y_pred_Male_POC_Match))"
      ],
      "metadata": {
        "id": "5uX_nV6jnua1"
      },
      "execution_count": null,
      "outputs": []
    },
    {
      "cell_type": "code",
      "source": [
        "#spearman correlation coefficient between female poc match guesses to answers\n",
        "\n",
        "corr2spearman_Woman_POC_Match  = scipy.stats.spearmanr(rho_Woman_POC_Match_guesses_array, rho_Woman_POC_Match_answers_array)\n",
        "print(corr2spearman_Woman_POC_Match) "
      ],
      "metadata": {
        "id": "rWH1Lmm5n1Bv"
      },
      "execution_count": null,
      "outputs": []
    },
    {
      "cell_type": "code",
      "source": [
        "#matthews correlation coefficient between female poc match guesses to answers\n",
        "y_true_Woman_POC_Match = rho_Woman_POC_Match_answers_array\n",
        "y_pred_Woman_POC_Match = rho_Woman_POC_Match_guesses_array\n",
        "\n",
        "print(matthews_corrcoef(y_true_Woman_POC_Match, y_pred_Woman_POC_Match))"
      ],
      "metadata": {
        "id": "nBf3GDyon-6l"
      },
      "execution_count": null,
      "outputs": []
    },
    {
      "cell_type": "code",
      "source": [
        "#spearman correlation coefficient between white female match guesses to answers\n",
        "corr2spearman_Woman_White_Match  = scipy.stats.spearmanr(rho_Woman_White_Match_guesses_array, rho_Woman_White_Match_answers_array)\n",
        "print(corr2spearman_Woman_White_Match)\n"
      ],
      "metadata": {
        "id": "4_1zygpaoD5T"
      },
      "execution_count": null,
      "outputs": []
    },
    {
      "cell_type": "code",
      "source": [
        "#matthews correlation coefficient between white female match guesses to answers\n",
        "y_true_Woman_White_Match = rho_Woman_White_Match_answers_array\n",
        "y_pred_Woman_White_Match = rho_Woman_White_Match_guesses_array\n",
        "\n",
        "print(matthews_corrcoef(y_true_Woman_White_Match, y_pred_Woman_White_Match))\n",
        " "
      ],
      "metadata": {
        "id": "i-qchIJaoI4j"
      },
      "execution_count": null,
      "outputs": []
    },
    {
      "cell_type": "code",
      "source": [
        "#spearman correlation coefficient between white male match guesses to answers\n",
        "\n",
        "corr2spearman_Male_White_Match  = scipy.stats.spearmanr(rho_Male_White_Match_guesses_array, rho_Male_White_Match_answers_array)\n",
        "print(corr2spearman_Male_White_Match)\n"
      ],
      "metadata": {
        "id": "07v1sx_-oRna"
      },
      "execution_count": null,
      "outputs": []
    },
    {
      "cell_type": "code",
      "source": [
        "#matthews correlation coefficient between white male match guesses to answers\n",
        "\n",
        "y_true_Male_White_Match = rho_Male_White_Match_answers_array\n",
        "y_pred_Male_White_Match = rho_Male_White_Match_guesses_array\n",
        "\n",
        "print(matthews_corrcoef(y_true_Male_White_Match, y_pred_Male_White_Match))\n"
      ],
      "metadata": {
        "id": "Csav-KTcokvN"
      },
      "execution_count": null,
      "outputs": []
    },
    {
      "cell_type": "code",
      "source": [
        "#confusion matrix between white woman match guesses to answers\n",
        "\n",
        "cm5 = confusion_matrix(y_true_Woman_White_Match, y_pred_Woman_White_Match, normalize='all')\n",
        "print(cm5)\n",
        "\n",
        "ax= plt.subplot()\n",
        "sns.heatmap(cm5, annot=True, fmt='g', ax=ax, cmap=\"YlGnBu\", vmin=0, vmax=1);  #annot=True to annotate cells, ftm='g' to disable scientific notation\n",
        "\n",
        "# labels, title and ticks\n",
        "ax.set_xlabel('Participant Guess');ax.set_ylabel('Video Actual State'); \n",
        "ax.set_title('Confusion Matrix: White women guesses on self similar video groups', multialignment='center', fontsize=18);\n",
        "\n",
        "plt.tight_layout()"
      ],
      "metadata": {
        "id": "BF6tRhlMoq5G"
      },
      "execution_count": null,
      "outputs": []
    },
    {
      "cell_type": "code",
      "source": [
        "#confusion matrix between POC woman match guesses to answers\n",
        "\n",
        "cm6 = confusion_matrix(y_true_Woman_POC_Match, y_pred_Woman_POC_Match, normalize='all')\n",
        "print(cm6)\n",
        "\n",
        "ax= plt.subplot()\n",
        "sns.heatmap(cm6, annot=True, fmt='g', ax=ax, cmap=\"YlGnBu\", vmin=0, vmax=1);  #annot=True to annotate cells, ftm='g' to disable scientific notation\n",
        "\n",
        "# labels, title and ticks\n",
        "ax.set_xlabel('Participant Guess');ax.set_ylabel('Video Actual State'); \n",
        "ax.set_title('Confusion Matrix: Women POC guesses on self similar video groups', multialignment='center', fontsize=18);\n",
        "plt.tight_layout()"
      ],
      "metadata": {
        "id": "nqsxtr57oxEJ"
      },
      "execution_count": null,
      "outputs": []
    },
    {
      "cell_type": "code",
      "source": [
        "#confusion matrix between white male match guesses to answers\n",
        "cm7 = confusion_matrix(y_true_Male_White_Match, y_pred_Male_White_Match, normalize='all')\n",
        "print(cm7)\n",
        "\n",
        "ax= plt.subplot()\n",
        "sns.heatmap(cm7, annot=True, fmt='g', ax=ax, cmap=\"YlGnBu\", vmin=0, vmax=1);  #annot=True to annotate cells, ftm='g' to disable scientific notation\n",
        "\n",
        "# labels, title and ticks\n",
        "ax.set_xlabel('Participant Guess');ax.set_ylabel('Video Actual State'); \n",
        "ax.set_title('Confusion Matrix: White male guesses on self similar video groups', multialignment='center', fontsize=18);\n",
        "plt.tight_layout()"
      ],
      "metadata": {
        "id": "8XQo4saNo6W6"
      },
      "execution_count": null,
      "outputs": []
    },
    {
      "cell_type": "code",
      "source": [
        "#confusion matrix between POC male match guesses to answers\n",
        "cm8 = confusion_matrix(y_true_Male_POC_Match, y_pred_Male_POC_Match, normalize='all')\n",
        "print(cm8)\n",
        "\n",
        "ax= plt.subplot()\n",
        "sns.heatmap(cm8, annot=True, fmt='g', ax=ax, cmap=\"YlGnBu\", vmin=0, vmax=1);  #annot=True to annotate cells, ftm='g' to disable scientific notation\n",
        "\n",
        "# labels, title and ticks\n",
        "ax.set_xlabel('Participant Guess');ax.set_ylabel('Video Actual State'); \n",
        "ax.set_title('Confusion Matrix: Male POC guesses on self similar video groups', multialignment='center', fontsize=18);\n",
        "plt.tight_layout()"
      ],
      "metadata": {
        "id": "Ws-pnry8pBIw"
      },
      "execution_count": null,
      "outputs": []
    },
    {
      "cell_type": "markdown",
      "source": [
        "# Question 3: Heterophily bias: Are there categories of human beings better at detecting a deepfake video if the persona in the video is different from their own identity?"
      ],
      "metadata": {
        "id": "rcSpvLwPpKNO"
      }
    },
    {
      "cell_type": "code",
      "source": [
        "#the function returns matched participants guesses and the actual answers to the video being real or not\n",
        "\n",
        "##male POC \n",
        "def rho_Male_POC_MisMatch_guesses(x):\n",
        "  if x['Male_POC_MisMatch'] == 1:\n",
        "    return x['Part_Guessed_Vid_Fake_to_nom']\n",
        "  else:\n",
        "    return np.nan\n",
        "\n",
        "AllVids_encodeddata['rho_Male_POC_MisMatch_guesses'] = AllVids_encodeddata.apply(rho_Male_POC_MisMatch_guesses, axis=1)\n",
        "\n",
        "def rho_Male_POC_MisMatch_answers(x):\n",
        "  if x['Male_POC_MisMatch'] == 1:\n",
        "    return x['is_fake']\n",
        "  else:\n",
        "    return np.nan\n",
        "\n",
        "AllVids_encodeddata['rho_Male_POC_MisMatch_answers'] = AllVids_encodeddata.apply(rho_Male_POC_MisMatch_answers, axis=1)\n",
        "\n",
        "##Woman POC  \n",
        "def rho_Woman_POC_MisMatch_guesses(x):\n",
        "  if x['Woman_POC_MisMatch'] == 1:\n",
        "    return x['Part_Guessed_Vid_Fake_to_nom']\n",
        "  else:\n",
        "    return np.nan\n",
        "\n",
        "AllVids_encodeddata['rho_Woman_POC_MisMatch_guesses'] = AllVids_encodeddata.apply(rho_Woman_POC_MisMatch_guesses, axis=1)\n",
        "\n",
        "def rho_Woman_POC_MisMatch_answers(x):\n",
        "  if x['Woman_POC_MisMatch'] == 1:\n",
        "    return x['is_fake']\n",
        "  else:\n",
        "    return np.nan\n",
        "\n",
        "AllVids_encodeddata['rho_Woman_POC_MisMatch_answers'] = AllVids_encodeddata.apply(rho_Woman_POC_MisMatch_answers, axis=1)\n",
        "\n",
        "##Woman white \n",
        "\n",
        "def rho_Woman_White_MisMatch_guesses(x):\n",
        "  if x['Woman_White_MisMatch'] == 1:\n",
        "    return x['Part_Guessed_Vid_Fake_to_nom']\n",
        "  else:\n",
        "    return np.nan\n",
        "\n",
        "AllVids_encodeddata['rho_Woman_White_MisMatch_guesses'] = AllVids_encodeddata.apply(rho_Woman_White_MisMatch_guesses, axis=1)\n",
        "\n",
        "\n",
        "def rho_Woman_White_MisMatch_answers(x):\n",
        "  if x['Woman_White_MisMatch'] == 1:\n",
        "    return x['is_fake']\n",
        "  else:\n",
        "    return np.nan\n",
        "\n",
        "AllVids_encodeddata['rho_Woman_White_MisMatch_answers'] = AllVids_encodeddata.apply(rho_Woman_White_MisMatch_answers, axis=1)\n",
        "\n",
        "##male white\n",
        "def rho_Male_White_MisMatch_guesses(x):\n",
        "  if x['Male_White_MisMatch'] == 1:\n",
        "    return x['Part_Guessed_Vid_Fake_to_nom']\n",
        "  else:\n",
        "    return np.nan\n",
        "\n",
        "AllVids_encodeddata['rho_Male_White_MisMatch_guesses'] = AllVids_encodeddata.apply(rho_Male_White_MisMatch_guesses, axis=1)\n",
        "\n",
        "def rho_Male_White_MisMatch_answers(x):\n",
        "  if x['Male_White_MisMatch'] == 1:\n",
        "    return x['is_fake']\n",
        "  else:\n",
        "    return np.nan\n",
        "\n",
        "AllVids_encodeddata['rho_Male_White_MisMatch_answers'] = AllVids_encodeddata.apply(rho_Male_White_MisMatch_answers, axis=1)\n"
      ],
      "metadata": {
        "id": "1VlbRWoOpFg-"
      },
      "execution_count": null,
      "outputs": []
    },
    {
      "cell_type": "code",
      "source": [
        "#arrays for mismatches guesses and answers \n",
        "rho_Male_POC_MisMatch_guesses_array = np.array(AllVids_encodeddata['rho_Male_POC_MisMatch_guesses'].dropna())\n",
        "rho_Male_POC_MisMatch_answers_array = np.array(AllVids_encodeddata['rho_Male_POC_MisMatch_answers'].dropna())\n",
        "\n",
        "rho_Woman_POC_MisMatch_guesses_array = np.array(AllVids_encodeddata['rho_Woman_POC_MisMatch_guesses'].dropna())\n",
        "rho_Woman_POC_MisMatch_answers_array = np.array(AllVids_encodeddata['rho_Woman_POC_MisMatch_answers'].dropna())\n",
        "\n",
        "rho_Woman_White_MisMatch_guesses_array = np.array(AllVids_encodeddata['rho_Woman_White_MisMatch_guesses'].dropna())\n",
        "rho_Woman_White_MisMatch_answers_array = np.array(AllVids_encodeddata['rho_Woman_White_MisMatch_answers'].dropna())\n",
        "\n",
        "rho_Male_White_MisMatch_guesses_array = np.array(AllVids_encodeddata['rho_Male_White_MisMatch_guesses'].dropna())\n",
        "rho_Male_White_MisMatch_answers_array = np.array(AllVids_encodeddata['rho_Male_White_MisMatch_answers'].dropna())\n"
      ],
      "metadata": {
        "id": "72sSchCOpMgn"
      },
      "execution_count": null,
      "outputs": []
    },
    {
      "cell_type": "code",
      "source": [
        "#spearman correlation coeffient for male poc mismatch guesses to answers \n",
        "corr3spearman_MalePOC_Mismatch = scipy.stats.spearmanr(rho_Male_POC_MisMatch_guesses_array, rho_Male_POC_MisMatch_answers_array)\n",
        "print(corr3spearman_MalePOC_Mismatch)\n"
      ],
      "metadata": {
        "id": "OwjXq2FDpPh2"
      },
      "execution_count": null,
      "outputs": []
    },
    {
      "cell_type": "code",
      "source": [
        "#matthews correlation coeffient for male poc mismatch guesses to answers \n",
        "y_true_MalePOC_Mismatch = rho_Male_POC_MisMatch_answers_array\n",
        "y_pred_MalePOC_Mismatch = rho_Male_POC_MisMatch_guesses_array\n",
        "\n",
        "print(matthews_corrcoef(y_true_MalePOC_Mismatch, y_pred_MalePOC_Mismatch))\n"
      ],
      "metadata": {
        "id": "18G5gMBNpi9U"
      },
      "execution_count": null,
      "outputs": []
    },
    {
      "cell_type": "code",
      "source": [
        "#spearman correlation coeffient for male white mismatch guesses to answers \n",
        "corr3spearman_MaleWhite_Mismatch = scipy.stats.spearmanr(rho_Male_White_MisMatch_guesses_array, rho_Male_White_MisMatch_answers_array)\n",
        "print(corr3spearman_MaleWhite_Mismatch)\n"
      ],
      "metadata": {
        "id": "6lpd5F1cpjCh"
      },
      "execution_count": null,
      "outputs": []
    },
    {
      "cell_type": "code",
      "source": [
        "#matthews correlation coeffient for male white mismatch guesses to answers \n",
        "y_true_MaleWhite_Mismatch = rho_Male_White_MisMatch_answers_array\n",
        "y_pred_MaleWhite_Mismatch = rho_Male_White_MisMatch_guesses_array\n",
        "print(matthews_corrcoef(y_true_MaleWhite_Mismatch, y_pred_MaleWhite_Mismatch))\n"
      ],
      "metadata": {
        "id": "dUutWYE8pjFZ"
      },
      "execution_count": null,
      "outputs": []
    },
    {
      "cell_type": "code",
      "source": [
        "#spearman correlation coeffient for female POC mismatch guesses to answers \n",
        "corr3spearman_WomanPOC_Mismatch = scipy.stats.spearmanr(rho_Woman_POC_MisMatch_guesses_array, rho_Woman_POC_MisMatch_answers_array)\n",
        "print(corr3spearman_WomanPOC_Mismatch)"
      ],
      "metadata": {
        "id": "O5U3VfjVpyP9"
      },
      "execution_count": null,
      "outputs": []
    },
    {
      "cell_type": "code",
      "source": [
        "#matthews correlation coeffient for female POC mismatch guesses to answers \n",
        "y_true_WomanPOC_Mismatch = rho_Woman_POC_MisMatch_answers_array\n",
        "y_pred_WomanPOC_Mismatch = rho_Woman_POC_MisMatch_guesses_array\n",
        "print(matthews_corrcoef(y_true_WomanPOC_Mismatch, y_pred_WomanPOC_Mismatch))"
      ],
      "metadata": {
        "id": "ku6QX401p3a8"
      },
      "execution_count": null,
      "outputs": []
    },
    {
      "cell_type": "code",
      "source": [
        "#spearman correlation coeffient for female white mismatch guesses to answers \n",
        "corr3spearman_WomanWhite_Mismatch = scipy.stats.spearmanr(rho_Woman_White_MisMatch_guesses_array, rho_Woman_White_MisMatch_answers_array)\n",
        "print(corr3spearman_WomanWhite_Mismatch)\n"
      ],
      "metadata": {
        "id": "HFkC2HsUp-07"
      },
      "execution_count": null,
      "outputs": []
    },
    {
      "cell_type": "code",
      "source": [
        "#matthews correlation coeffient for female white mismatch guesses to answers \n",
        "y_true_WomanWhite_Mismatch = rho_Woman_White_MisMatch_answers_array\n",
        "y_pred_WomanWhite_Mismatch = rho_Woman_White_MisMatch_guesses_array\n",
        "print(matthews_corrcoef(y_true_WomanWhite_Mismatch, y_pred_WomanWhite_Mismatch))\n"
      ],
      "metadata": {
        "id": "Rb7-zKvCqHyV"
      },
      "execution_count": null,
      "outputs": []
    },
    {
      "cell_type": "code",
      "source": [
        "#confusion matrix for male white mismatch guesses to answers \n",
        "\n",
        "cm23 = confusion_matrix(y_true_MaleWhite_Mismatch, y_pred_MaleWhite_Mismatch, normalize='all')\n",
        "print(cm23)\n",
        "\n",
        "ax= plt.subplot()\n",
        "sns.heatmap(cm23, annot=True, fmt='g', ax=ax, cmap=\"YlGnBu\", vmin=0, vmax=1);  #annot=True to annotate cells, ftm='g' to disable scientific notation\n",
        "\n",
        "# labels, title and ticks\n",
        "ax.set_xlabel('Participant Guess');ax.set_ylabel('Video Actual State'); \n",
        "ax.set_title('Confusion Matrix: White male guesses on dissimilar video groups', multialignment='center', fontsize=18);"
      ],
      "metadata": {
        "id": "lrLxwKBjqMbd"
      },
      "execution_count": null,
      "outputs": []
    },
    {
      "cell_type": "code",
      "source": [
        "#confusion matrix for male POC mismatch guesses to answers \n",
        "cm24 = confusion_matrix(y_true_MalePOC_Mismatch, y_pred_MalePOC_Mismatch, normalize='all')\n",
        "print(cm24)\n",
        "\n",
        "ax= plt.subplot()\n",
        "sns.heatmap(cm24, annot=True, fmt='g', ax=ax, cmap=\"YlGnBu\", vmin=0, vmax=1);  #annot=True to annotate cells, ftm='g' to disable scientific notation\n",
        "\n",
        "# labels, title and ticks\n",
        "ax.set_xlabel('Participant Guess');ax.set_ylabel('Video Actual State'); \n",
        "ax.set_title('Confusion Matrix: Male POC guesses on dissimilar video groups', multialignment='center', fontsize=18);"
      ],
      "metadata": {
        "id": "ij4uJV7OqVDA"
      },
      "execution_count": null,
      "outputs": []
    },
    {
      "cell_type": "code",
      "source": [
        "#confusion matrix for female white mismatch guesses to answers \n",
        "cm25 = confusion_matrix(y_true_WomanWhite_Mismatch, y_pred_WomanWhite_Mismatch, normalize='all')\n",
        "print(cm25)\n",
        "\n",
        "ax= plt.subxplot()\n",
        "sns.heatmap(cm25, annot=True, fmt='g', ax=ax, cmap=\"YlGnBu\", vmin=0, vmax=1);  #annot=True to annotate cells, ftm='g' to disable scientific notation\n",
        "\n",
        "# labels, title and ticks\n",
        "ax.set_xlabel('Participant Guess');ax.set_ylabel('Video Actual State'); \n",
        "ax.set_title('Confusion Matrix: White women guesses on dissimilar video groups', multialignment='center', fontsize=18);"
      ],
      "metadata": {
        "id": "sG1RJNWeqlJ_"
      },
      "execution_count": null,
      "outputs": []
    },
    {
      "cell_type": "code",
      "source": [
        "#confusion matrix for female POC mismatch guesses to answers \n",
        "cm26 = confusion_matrix(y_true_WomanPOC_Mismatch, y_pred_WomanPOC_Mismatch, normalize='all')\n",
        "print(cm26)\n",
        "\n",
        "ax= plt.subplot()\n",
        "sns.heatmap(cm26, annot=True, fmt='g', ax=ax, cmap=\"YlGnBu\", vmin=0, vmax=1);  #annot=True to annotate cells, ftm='g' to disable scientific notation\n",
        "\n",
        "# labels, title and ticks\n",
        "ax.set_xlabel('Participant Guess');ax.set_ylabel('Video Actual State'); \n",
        "ax.set_title('Confusion Matrix: Women POC guesses on dissimilar video groups', fontsize=18); "
      ],
      "metadata": {
        "id": "WjnBBeGrqt-D"
      },
      "execution_count": null,
      "outputs": []
    },
    {
      "cell_type": "markdown",
      "source": [
        "#Age "
      ],
      "metadata": {
        "id": "If_5cx0Gq5KS"
      }
    },
    {
      "cell_type": "code",
      "source": [
        "#rho for age groups \n",
        "def rho_age_1829_guess(x):\n",
        "    if x['Part_Age_18_29'] == 1:\n",
        "      return x['Part_Guessed_Vid_Fake_to_nom']\n",
        "    else:\n",
        "      return np.nan\n",
        "\n",
        "AllVids_encodeddata['rho_age_1829_guess'] = AllVids_encodeddata.apply(rho_age_1829_guess, axis=1)\n",
        "\n",
        "def rho_age_1829_answers(x):\n",
        "    if x['Part_Age_18_29'] == 1:\n",
        "      return x['is_fake']\n",
        "    else:\n",
        "      return np.nan\n",
        "\n",
        "AllVids_encodeddata['rho_age_1829_answers'] = AllVids_encodeddata.apply(rho_age_1829_answers, axis=1)\n",
        "\n",
        "\n",
        "def rho_age_30to49_guess(x):\n",
        "    if x['Part_Age_30_49'] == 1:\n",
        "      return x['Part_Guessed_Vid_Fake_to_nom']\n",
        "    else:\n",
        "      return np.nan\n",
        "\n",
        "AllVids_encodeddata['rho_age_30to49_guess'] = AllVids_encodeddata.apply(rho_age_30to49_guess, axis=1)\n",
        "\n",
        "def rho_age_30to49_answers(x):\n",
        "    if x['Part_Age_30_49'] == 1:\n",
        "      return x['is_fake']\n",
        "    else:\n",
        "      return np.nan\n",
        "\n",
        "AllVids_encodeddata['rho_age_30to49_answers'] = AllVids_encodeddata.apply(rho_age_30to49_answers, axis=1)\n",
        "\n",
        "#\n",
        "\n",
        "def rho_age_50to64_guess(x):\n",
        "    if x['Part_Age_50_64'] == 1:\n",
        "      return x['Part_Guessed_Vid_Fake_to_nom']\n",
        "    else:\n",
        "      return np.nan\n",
        "\n",
        "AllVids_encodeddata['rho_age_50to64_guess'] = AllVids_encodeddata.apply(rho_age_50to64_guess, axis=1)\n",
        "\n",
        "def rho_age_50to64_answers(x):\n",
        "    if x['Part_Age_50_64'] == 1:\n",
        "      return x['is_fake']\n",
        "    else:\n",
        "      return np.nan\n",
        "\n",
        "AllVids_encodeddata['rho_age_50to64_answers'] = AllVids_encodeddata.apply(rho_age_50to64_answers, axis=1)\n",
        "\n",
        "#\n",
        "\n",
        "def rho_age_over65_guess(x):\n",
        "    if x['Part_Age_65plus'] == 1:\n",
        "      return x['Part_Guessed_Vid_Fake_to_nom']\n",
        "    else:\n",
        "      return np.nan\n",
        "\n",
        "AllVids_encodeddata['rho_age_over65_guess'] = AllVids_encodeddata.apply(rho_age_over65_guess, axis=1)\n",
        "\n",
        "def rho_age_over65_answers(x):\n",
        "    if x['Part_Age_65plus'] == 1:\n",
        "      return x['is_fake']\n",
        "    else:\n",
        "      return np.nan\n",
        "\n",
        "AllVids_encodeddata['rho_age_over65_answers'] = AllVids_encodeddata.apply(rho_age_over65_answers, axis=1)"
      ],
      "metadata": {
        "id": "5frsKYXNq8JD"
      },
      "execution_count": null,
      "outputs": []
    },
    {
      "cell_type": "code",
      "source": [
        "#arrays for age groups guesses and answers \n",
        "rho_age_over65_guess_array = np.array(AllVids_encodeddata['rho_age_over65_guess'].dropna())\n",
        "rho_age_over65_answers_array = np.array(AllVids_encodeddata['rho_age_over65_answers'].dropna())\n",
        "\n",
        "rho_age_50to64_guess_array = np.array(AllVids_encodeddata['rho_age_50to64_guess'].dropna())\n",
        "rho_age_50to64_answers_array = np.array(AllVids_encodeddata['rho_age_50to64_answers'].dropna())\n",
        "\n",
        "rho_age_30to49_guess_array = np.array(AllVids_encodeddata['rho_age_30to49_guess'].dropna())\n",
        "rho_age_30to49_answers_array = np.array(AllVids_encodeddata['rho_age_30to49_answers'].dropna())\n",
        "\n",
        "rho_age_1829_guess_array = np.array(AllVids_encodeddata['rho_age_1829_guess'].dropna())\n",
        "rho_age_1829_answers_array = np.array(AllVids_encodeddata['rho_age_1829_answers'].dropna())\n"
      ],
      "metadata": {
        "id": "c7QTy09Pq-jS"
      },
      "execution_count": null,
      "outputs": []
    },
    {
      "cell_type": "code",
      "source": [
        "#spearman correlation coefficient answers to guesses ages 18-29\n",
        "corr4spearman_1829= scipy.stats.spearmanr(rho_age_1829_answers_array, rho_age_1829_guess_array)\n",
        "print(corr4spearman_1829)\n"
      ],
      "metadata": {
        "id": "9xPmh6-jrCgA"
      },
      "execution_count": null,
      "outputs": []
    },
    {
      "cell_type": "code",
      "source": [
        "#spearman correlation coefficient answers to guesses age 30-49\n",
        "corr4spearman_30to49 = scipy.stats.spearmanr(rho_age_30to49_guess_array, rho_age_30to49_answers_array)\n",
        "print(corr4spearman_30to49)\n"
      ],
      "metadata": {
        "id": "-y9vjAC1rDlg"
      },
      "execution_count": null,
      "outputs": []
    },
    {
      "cell_type": "code",
      "source": [
        "#spearman correlation coefficient answers to guesses age 50-64\n",
        "corr4spearman_50to64 = scipy.stats.spearmanr(rho_age_50to64_answers_array, rho_age_50to64_guess_array)\n",
        "print(corr4spearman_50to64)\n"
      ],
      "metadata": {
        "id": "rSysI44urGSY"
      },
      "execution_count": null,
      "outputs": []
    },
    {
      "cell_type": "code",
      "source": [
        "#spearman correlation coefficient answers to guesses age over 65\n",
        "corr4spearman_over65= scipy.stats.spearmanr(rho_age_over65_answers_array, rho_age_over65_guess_array)\n",
        "print(corr4spearman_over65)\n"
      ],
      "metadata": {
        "id": "V5R24c5SrHxJ"
      },
      "execution_count": null,
      "outputs": []
    },
    {
      "cell_type": "code",
      "source": [
        "#matthews correlation coefficient answers to guesses age 18-29\n",
        "y_true_1829 = rho_age_1829_answers_array\n",
        "y_pred_1829 = rho_age_1829_guess_array\n",
        "print(matthews_corrcoef(y_true_1829, y_pred_1829))\n"
      ],
      "metadata": {
        "id": "zpNFBjZ6rJ3R"
      },
      "execution_count": null,
      "outputs": []
    },
    {
      "cell_type": "code",
      "source": [
        "#confusion matrix answers to guesses age 18-29\n",
        "cmAGE1829 = confusion_matrix(y_true_1829, y_pred_1829, normalize='all')\n",
        "\n",
        "print(cmAGE1829)\n",
        "ax= plt.subplot()\n",
        "sns.heatmap(cmAGE1829, annot=True, fmt='g', ax=ax, cmap=\"YlGnBu\", vmin=0, vmax=1);  #annot=True to annotate cells, ftm='g' to disable scientific notation\n",
        "\n",
        "# labels, title and ticks\n",
        "ax.set_xlabel('Participant Guess');ax.set_ylabel('Video Actual State'); \n",
        "ax.set_title('Confusion Matrix: 18-29 participants Guess vs. Actual', fontsize=18); "
      ],
      "metadata": {
        "id": "BXFuk3qzrL-K"
      },
      "execution_count": null,
      "outputs": []
    },
    {
      "cell_type": "code",
      "source": [
        "#matthews correlation coefficient answers to guesses age 30-49\n",
        "y_true_30to49 = rho_age_30to49_answers_array\n",
        "y_pred_30to49 = rho_age_30to49_guess_array\n",
        "\n",
        "print(matthews_corrcoef(y_true_30to49, y_pred_30to49))"
      ],
      "metadata": {
        "id": "JIEKSX-FrN3A"
      },
      "execution_count": null,
      "outputs": []
    },
    {
      "cell_type": "code",
      "source": [
        "#confusion matrix answers to guesses age 30-49\n",
        "cmAGE3049 = confusion_matrix(y_true_30to49, y_pred_30to49, normalize='all')\n",
        "\n",
        "print(cmAGE3049)\n",
        "\n",
        "ax= plt.subplot()\n",
        "sns.heatmap(cmAGE3049, annot=True, fmt='g', ax=ax, cmap=\"YlGnBu\", vmin=0, vmax=1);  #annot=True to annotate cells, ftm='g' to disable scientific notation\n",
        "\n",
        "# labels, title and ticks\n",
        "ax.set_xlabel('Participant Guess');ax.set_ylabel('Video Actual State'); \n",
        "ax.set_title('Confusion Matrix: 30-49 participants Guess vs. Actual', fontsize=18); "
      ],
      "metadata": {
        "id": "0W1KMCyyrPjZ"
      },
      "execution_count": null,
      "outputs": []
    },
    {
      "cell_type": "code",
      "source": [
        "#matthews correlation coefficient answers to guesses age over 65\n",
        "y_true_over65 = rho_age_over65_answers_array\n",
        "y_pred_over65 = rho_age_over65_guess_array\n",
        "\n",
        "print(matthews_corrcoef(y_true_over65, y_pred_over65))\n"
      ],
      "metadata": {
        "id": "1r0vasCArRDK"
      },
      "execution_count": null,
      "outputs": []
    },
    {
      "cell_type": "code",
      "source": [
        "#confusion matrix answers to guesses age over 65\n",
        "cmAGEover65 = confusion_matrix(y_true_over65, y_pred_over65, normalize='all')\n",
        "print(cmAGEover65)\n",
        "\n",
        "ax= plt.subplot()\n",
        "sns.heatmap(cmAGEover65, annot=True, fmt='g', ax=ax, cmap=\"YlGnBu\", vmin=0, vmax=1);  #annot=True to annotate cells, ftm='g' to disable scientific notation\n",
        "\n",
        "# labels, title and ticks\n",
        "ax.set_xlabel('Participant Guess');ax.set_ylabel('Video Actual State'); \n",
        "ax.set_title('Confusion Matrix: Over 65 participants Guess vs. Actual', fontsize=18); "
      ],
      "metadata": {
        "id": "O0MOOUhcrS3D"
      },
      "execution_count": null,
      "outputs": []
    },
    {
      "cell_type": "code",
      "source": [
        "#matthews correlation coefficient answers to guesses age  50-64\n",
        "y_true_5064 = rho_age_50to64_answers_array\n",
        "y_pred_5064 = rho_age_50to64_guess_array\n",
        "\n",
        "print(matthews_corrcoef(y_true_5064, y_pred_5064))\n"
      ],
      "metadata": {
        "id": "50zHQugkrUhT"
      },
      "execution_count": null,
      "outputs": []
    },
    {
      "cell_type": "code",
      "source": [
        "#confusion matrix answers to guesses age 50-64 \n",
        "cmAGE5064 = confusion_matrix(y_true_5064, y_pred_5064, normalize='all')\n",
        "print(cmAGE5064)\n",
        "\n",
        "ax= plt.subplot()\n",
        "sns.heatmap(cmAGE5064, annot=True, fmt='g', ax=ax, cmap=\"YlGnBu\", vmin=0, vmax=1);  #annot=True to annotate cells, ftm='g' to disable scientific notation\n",
        "\n",
        "# labels, title and ticks\n",
        "ax.set_xlabel('Participant Guess');ax.set_ylabel('Video Actual State'); \n",
        "ax.set_title('Confusion Matrix: 50-64 participants Guess vs. Actual', fontsize=18); \n"
      ],
      "metadata": {
        "id": "XF8SYnx2rWnq"
      },
      "execution_count": null,
      "outputs": []
    },
    {
      "cell_type": "code",
      "source": [
        "#rho for age matches \n",
        "def rho_age_1829_Match_guess(x):\n",
        "    if x['age_1829_Match'] == 1:\n",
        "      return x['Part_Guessed_Vid_Fake_to_nom']\n",
        "    else:\n",
        "      return np.nan\n",
        "\n",
        "AllVids_encodeddata['rho_age_1829_Match_guess'] = AllVids_encodeddata.apply(rho_age_1829_Match_guess, axis=1)\n",
        "\n",
        "def rho_age_3049_Match_guess(x):\n",
        "    if x['age_3049_Match'] == 1:\n",
        "      return x['Part_Guessed_Vid_Fake_to_nom']\n",
        "    else:\n",
        "      return np.nan\n",
        "\n",
        "AllVids_encodeddata['rho_age_3049_Match_guess'] = AllVids_encodeddata.apply(rho_age_3049_Match_guess, axis=1)\n",
        "\n",
        "\n",
        "def rho_age_1829_Match_answers(x):\n",
        "    if x['age_1829_Match'] == 1:\n",
        "      return x['is_fake']\n",
        "    else:\n",
        "      return np.nan\n",
        "\n",
        "AllVids_encodeddata['rho_age_1829_Match_answers'] = AllVids_encodeddata.apply(rho_age_1829_Match_answers, axis=1)\n",
        "\n",
        "def rho_age_3049_Match_answers(x):\n",
        "    if x['age_3049_Match'] == 1:\n",
        "      return x['is_fake']\n",
        "    else:\n",
        "      return np.nan\n",
        "\n",
        "AllVids_encodeddata['rho_age_3049_Match_answers'] = AllVids_encodeddata.apply(rho_age_3049_Match_answers, axis=1)\n",
        "\n",
        "def rho_age_over65_Match_guess(x):\n",
        "    if x['age_over65_Match'] == 1:\n",
        "      return x['Part_Guessed_Vid_Fake_to_nom']\n",
        "    else:\n",
        "      return np.nan \n",
        "\n",
        "AllVids_encodeddata['rho_age_over65_Match_guess'] = AllVids_encodeddata.apply(rho_age_over65_Match_guess, axis=1)\n",
        "\n",
        "\n",
        "def rho_age_5064_Match_guess(x):\n",
        "    if x['age_5064_Match'] == 1:\n",
        "      return x['Part_Guessed_Vid_Fake_to_nom']\n",
        "    else:\n",
        "      return np.nan \n",
        "\n",
        "AllVids_encodeddata['rho_age_5064_Match_guess'] = AllVids_encodeddata.apply(rho_age_5064_Match_guess, axis=1)\n",
        "\n",
        "def rho_age_over65_Match_answers(x):\n",
        "    if x['age_over65_Match'] == 1:\n",
        "      return x['is_fake']\n",
        "    else:\n",
        "      return np.nan\n",
        "\n",
        "AllVids_encodeddata['rho_age_over65_Match_answers'] = AllVids_encodeddata.apply(rho_age_over65_Match_answers, axis=1)\n",
        "\n",
        "def rho_age_5064_Match_answers(x):\n",
        "    if x['age_5064_Match'] == 1:\n",
        "      return x['is_fake']\n",
        "    else:\n",
        "      return np.nan\n",
        "\n",
        "AllVids_encodeddata['rho_age_5064_Match_answers'] = AllVids_encodeddata.apply(rho_age_5064_Match_answers, axis=1)\n"
      ],
      "metadata": {
        "id": "OiICd_GlrYP1"
      },
      "execution_count": null,
      "outputs": []
    },
    {
      "cell_type": "code",
      "source": [
        "#rho for age mismatches \n",
        "def rho_age_1829_MisMatch_guess(x):\n",
        "    if x['age_1829_MisMatch'] == 1:\n",
        "      return x['Part_Guessed_Vid_Fake_to_nom']\n",
        "    else:\n",
        "      return np.nan\n",
        "\n",
        "AllVids_encodeddata['rho_age_1829_MisMatch_guess'] = AllVids_encodeddata.apply(rho_age_1829_MisMatch_guess, axis=1)\n",
        "\n",
        "def rho_age_3049_MisMatch_guess(x):\n",
        "    if x['age_3049_MisMatch'] == 1:\n",
        "      return x['Part_Guessed_Vid_Fake_to_nom']\n",
        "    else:\n",
        "      return np.nan\n",
        "\n",
        "AllVids_encodeddata['rho_age_3049_MisMatch_guess'] = AllVids_encodeddata.apply(rho_age_3049_MisMatch_guess, axis=1)\n",
        "\n",
        "\n",
        "def rho_age_1829_MisMatch_answers(x):\n",
        "    if x['age_1829_MisMatch'] == 1:\n",
        "      return x['is_fake']\n",
        "    else:\n",
        "      return np.nan\n",
        "\n",
        "AllVids_encodeddata['rho_age_1829_MisMatch_answers'] = AllVids_encodeddata.apply(rho_age_1829_MisMatch_answers, axis=1)\n",
        "\n",
        "def rho_age_3049_MisMatch_answers(x):\n",
        "    if x['age_3049_MisMatch'] == 1:\n",
        "      return x['is_fake']\n",
        "    else:\n",
        "      return np.nan\n",
        "\n",
        "AllVids_encodeddata['rho_age_3049_MisMatch_answers'] = AllVids_encodeddata.apply(rho_age_3049_MisMatch_answers, axis=1)\n",
        "\n",
        "def rho_age_over65_MisMatch_guess(x):\n",
        "    if x['age_over65_MisMatch'] == 1:\n",
        "      return x['Part_Guessed_Vid_Fake_to_nom']\n",
        "    else:\n",
        "      return np.nan \n",
        "\n",
        "AllVids_encodeddata['rho_age_over65_MisMatch_guess'] = AllVids_encodeddata.apply(rho_age_over65_MisMatch_guess, axis=1)\n",
        "\n",
        "\n",
        "def rho_age_5064_MisMatch_guess(x):\n",
        "    if x['age_5064_MisMatch'] == 1:\n",
        "      return x['Part_Guessed_Vid_Fake_to_nom']\n",
        "    else:\n",
        "      return np.nan \n",
        "\n",
        "AllVids_encodeddata['rho_age_5064_MisMatch_guess'] = AllVids_encodeddata.apply(rho_age_5064_MisMatch_guess, axis=1)\n",
        "\n",
        "def rho_age_over65_MisMatch_answers(x):\n",
        "    if x['age_over65_MisMatch'] == 1:\n",
        "      return x['is_fake']\n",
        "    else:\n",
        "      return np.nan\n",
        "\n",
        "AllVids_encodeddata['rho_age_over65_MisMatch_answers'] = AllVids_encodeddata.apply(rho_age_over65_MisMatch_answers, axis=1)\n",
        "\n",
        "def rho_age_5064_MisMatch_answers(x):\n",
        "    if x['age_5064_MisMatch'] == 1:\n",
        "      return x['is_fake']\n",
        "    else:\n",
        "      return np.nan\n",
        "\n",
        "AllVids_encodeddata['rho_age_5064_MisMatch_answers'] = AllVids_encodeddata.apply(rho_age_5064_MisMatch_answers, axis=1)\n"
      ],
      "metadata": {
        "id": "Y0ZE4a2yraWv"
      },
      "execution_count": null,
      "outputs": []
    },
    {
      "cell_type": "code",
      "source": [
        "#arrays for age group matches guesses to answers \n",
        "\n",
        "#match \n",
        "rho_age_5064_Match_answers_array = np.array(AllVids_encodeddata['rho_age_5064_Match_answers'].dropna())\n",
        "rho_age_5064_Match_guess_array = np.array(AllVids_encodeddata['rho_age_5064_Match_guess'].dropna())\n",
        "\n",
        "rho_age_over65_Match_answers_array = np.array(AllVids_encodeddata['rho_age_over65_Match_answers'].dropna())\n",
        "rho_age_over65_Match_guess_array = np.array(AllVids_encodeddata['rho_age_over65_Match_guess'].dropna())\n",
        "\n",
        "rho_age_3049_Match_answers_array = np.array(AllVids_encodeddata['rho_age_3049_Match_answers'].dropna())\n",
        "rho_age_3049_Match_guess_array = np.array(AllVids_encodeddata['rho_age_3049_Match_guess'].dropna())\n",
        "\n",
        "rho_age_1829_Match_answers_array = np.array(AllVids_encodeddata['rho_age_1829_Match_answers'].dropna())\n",
        "rho_age_1829_Match_guess_array = np.array(AllVids_encodeddata['rho_age_1829_Match_guess'].dropna())\n",
        "\n",
        "#arrays for age group mismatches guesses to answers \n",
        "\n",
        "#mismatch\n",
        "rho_age_5064_MisMatch_answers_array = np.array(AllVids_encodeddata['rho_age_5064_MisMatch_answers'].dropna())\n",
        "rho_age_5064_MisMatch_guess_array = np.array(AllVids_encodeddata['rho_age_5064_MisMatch_guess'].dropna())\n",
        "\n",
        "rho_age_over65_MisMatch_answers_array = np.array(AllVids_encodeddata['rho_age_over65_MisMatch_answers'].dropna())\n",
        "rho_age_over65_MisMatch_guess_array = np.array(AllVids_encodeddata['rho_age_over65_MisMatch_guess'].dropna())\n",
        "\n",
        "rho_age_3049_MisMatch_answers_array = np.array(AllVids_encodeddata['rho_age_3049_MisMatch_answers'].dropna())\n",
        "rho_age_3049_MisMatch_guess_array = np.array(AllVids_encodeddata['rho_age_3049_MisMatch_guess'].dropna())\n",
        "\n",
        "rho_age_1829_MisMatch_answers_array = np.array(AllVids_encodeddata['rho_age_1829_MisMatch_answers'].dropna())\n",
        "rho_age_1829_MisMatch_guess_array = np.array(AllVids_encodeddata['rho_age_1829_MisMatch_guess'].dropna())\n"
      ],
      "metadata": {
        "id": "sSdXmPyjrb6_"
      },
      "execution_count": null,
      "outputs": []
    },
    {
      "cell_type": "code",
      "source": [
        "#spearman correlation coefficient for age guesses to answers 18-29 match\n",
        "corr4spearman_1829MATCH = scipy.stats.spearmanr(rho_age_1829_Match_guess_array, rho_age_1829_Match_answers_array)\n",
        "print(corr4spearman_1829MATCH)\n"
      ],
      "metadata": {
        "id": "K5Gj4t_vrdvZ"
      },
      "execution_count": null,
      "outputs": []
    },
    {
      "cell_type": "code",
      "source": [
        "#spearman correlation coefficient for age guesses to answers  18-29 mistmatch \n",
        "corr4spearman_1829MISMATCH = scipy.stats.spearmanr(rho_age_1829_MisMatch_guess_array, rho_age_1829_MisMatch_answers_array)\n",
        "print(corr4spearman_1829MISMATCH)\n"
      ],
      "metadata": {
        "id": "ge6vPzuvrfuv"
      },
      "execution_count": null,
      "outputs": []
    },
    {
      "cell_type": "code",
      "source": [
        "#spearman correlation coefficient for age guesses to answers 30-49 mismatch\n",
        "\n",
        "corr4spearman_3049MISMATCH = scipy.stats.spearmanr(rho_age_3049_MisMatch_guess_array, rho_age_3049_MisMatch_answers_array)\n",
        "print(corr4spearman_3049MISMATCH)\n"
      ],
      "metadata": {
        "id": "SlG_nox3rhBj"
      },
      "execution_count": null,
      "outputs": []
    },
    {
      "cell_type": "code",
      "source": [
        "#spearman correlation coefficient for age guesses to answers 30-49 match\n",
        "\n",
        "corr4spearman_3049MATCH = scipy.stats.spearmanr(rho_age_3049_Match_guess_array, rho_age_3049_Match_answers_array)\n",
        "print(corr4spearman_3049MATCH)\n"
      ],
      "metadata": {
        "id": "T9Rp5MqhrjTl"
      },
      "execution_count": null,
      "outputs": []
    },
    {
      "cell_type": "code",
      "source": [
        "#spearman correlation coefficient for age guesses to answers 50-64 mismatch\n",
        "\n",
        "corr4spearman_5064MISMATCH = scipy.stats.spearmanr(rho_age_5064_MisMatch_guess_array, rho_age_5064_MisMatch_answers_array)\n",
        "print(corr4spearman_5064MISMATCH)\n"
      ],
      "metadata": {
        "id": "C1umPaorrk_-"
      },
      "execution_count": null,
      "outputs": []
    },
    {
      "cell_type": "code",
      "source": [
        "#spearman correlation coefficient for age guesses to answers 50-64 mmatch\n",
        "\n",
        "corr4spearman_5064MATCH = scipy.stats.spearmanr(rho_age_5064_Match_guess_array, rho_age_5064_Match_answers_array)\n",
        "print(corr4spearman_5064MATCH)\n"
      ],
      "metadata": {
        "id": "3rPdpwVfrm1K"
      },
      "execution_count": null,
      "outputs": []
    },
    {
      "cell_type": "code",
      "source": [
        "#spearman correlation coefficient for age guesses to answers over 65 mismmatch\n",
        "\n",
        "corr4spearman_over65MISMATCH = scipy.stats.spearmanr(rho_age_over65_MisMatch_guess_array, rho_age_over65_MisMatch_answers_array)\n",
        "print(corr4spearman_over65MISMATCH)"
      ],
      "metadata": {
        "id": "WS9inNwhrpCD"
      },
      "execution_count": null,
      "outputs": []
    },
    {
      "cell_type": "code",
      "source": [
        "#spearman correlation coefficient for age guesses to answers over 65 match\n",
        "\n",
        "corr4spearman_over65MATCH = scipy.stats.spearmanr(rho_age_over65_Match_guess_array, rho_age_over65_Match_answers_array)\n",
        "print(corr4spearman_over65MATCH)\n"
      ],
      "metadata": {
        "id": "kDiLaGYurqi6"
      },
      "execution_count": null,
      "outputs": []
    },
    {
      "cell_type": "code",
      "source": [
        "#matthews correlation coefficient for age guesses to answers 18-29 match\n",
        "\n",
        "y_true_1829_match = rho_age_1829_Match_answers_array\n",
        "y_pred_1829_match = rho_age_1829_Match_guess_array\n",
        "\n",
        "print(matthews_corrcoef(y_true_1829_match, y_pred_1829_match))\n",
        "\n"
      ],
      "metadata": {
        "id": "saCnd5nqrsDA"
      },
      "execution_count": null,
      "outputs": []
    },
    {
      "cell_type": "code",
      "source": [
        "#matthews correlation coefficient for age guesses to answers 18-29 mismatch\n",
        "\n",
        "y_true_1829_mismatch = rho_age_1829_MisMatch_answers_array\n",
        "y_pred_1829_mismatch = rho_age_1829_MisMatch_guess_array\n",
        "\n",
        "print(matthews_corrcoef(y_true_1829_mismatch, y_pred_1829_mismatch))\n"
      ],
      "metadata": {
        "id": "zWgGPfaYru1J"
      },
      "execution_count": null,
      "outputs": []
    },
    {
      "cell_type": "code",
      "source": [
        "#confusion matrix for age guesses to answers 18-29 mismatch\n",
        "\n",
        "cmAGE1829mismatch = confusion_matrix(y_true_1829_mismatch, y_pred_1829_mismatch, normalize='all')\n",
        "print(cmAGE1829mismatch)\n",
        "\n",
        "\n",
        "ax= plt.subplot()\n",
        "sns.heatmap(cmAGE1829mismatch, annot=True, fmt='g', ax=ax, cmap=\"YlGnBu\", vmin=0, vmax=1);  #annot=True to annotate cells, ftm='g' to disable scientific notation\n",
        "\n",
        "# labels, title and ticks\n",
        "ax.set_xlabel('Participant Guess');ax.set_ylabel('Video Actual State'); \n",
        "ax.set_title('Confusion Matrix: 18-29 Mismatch participants Guess vs. Actual', fontsize=18); "
      ],
      "metadata": {
        "id": "NH_If9TurvG2"
      },
      "execution_count": null,
      "outputs": []
    },
    {
      "cell_type": "code",
      "source": [
        "#confusion matrix for age guesses to answers 18-29 match\n",
        "\n",
        "cmAGE1829match = confusion_matrix(y_true_1829_match, y_pred_1829_match, normalize='all')\n",
        "print(cmAGE1829match)\n",
        "\n",
        "\n",
        "ax= plt.subplot()\n",
        "sns.heatmap(cmAGE1829match, annot=True, fmt='g', ax=ax, cmap=\"YlGnBu\", vmin=0, vmax=1);  #annot=True to annotate cells, ftm='g' to disable scientific notation\n",
        "\n",
        "# labels, title and ticks\n",
        "ax.set_xlabel('Participant Guess');ax.set_ylabel('Video Actual State'); \n",
        "ax.set_title('Confusion Matrix: 18-29 Match participants Guess vs. Actual', fontsize=18); "
      ],
      "metadata": {
        "id": "Fee-awRgrxPT"
      },
      "execution_count": null,
      "outputs": []
    },
    {
      "cell_type": "code",
      "source": [
        "#Matthews correlation coefficient for age guesses to answers 30-49 match\n",
        "\n",
        "y_true_3049_match = rho_age_3049_Match_answers_array\n",
        "y_pred_3049_match = rho_age_3049_Match_guess_array\n",
        "\n",
        "print(matthews_corrcoef(y_true_3049_match, y_pred_3049_match))"
      ],
      "metadata": {
        "id": "SRAImOE0rzCZ"
      },
      "execution_count": null,
      "outputs": []
    },
    {
      "cell_type": "code",
      "source": [
        "#Matthews correlation coefficient for age guesses to answers 30-49 mismatch\n",
        "\n",
        "y_true_3049_mismatch = rho_age_3049_MisMatch_answers_array\n",
        "y_pred_3049_mismatch = rho_age_3049_MisMatch_guess_array\n",
        "\n",
        "print(matthews_corrcoef(y_true_3049_mismatch, y_pred_3049_mismatch))\n"
      ],
      "metadata": {
        "id": "3LehL0qkr1qY"
      },
      "execution_count": null,
      "outputs": []
    },
    {
      "cell_type": "code",
      "source": [
        "#confusion matrix for age guesses to answers 30-49 mismatch\n",
        "\n",
        "cmAGE3049mismatch = confusion_matrix(y_true_3049_mismatch, y_pred_3049_mismatch, normalize='all')\n",
        "\n",
        "print(cmAGE3049mismatch)\n",
        "\n",
        "ax= plt.subplot()\n",
        "sns.heatmap(cmAGE3049mismatch, annot=True, fmt='g', ax=ax, cmap=\"YlGnBu\", vmin=0, vmax=1);  #annot=True to annotate cells, ftm='g' to disable scientific notation\n",
        "\n",
        "# labels, title and ticks\n",
        "ax.set_xlabel('Participant Guess');ax.set_ylabel('Video Actual State'); \n",
        "ax.set_title('Confusion Matrix: 30-49 Mismatch participants Guess vs. Actual', fontsize=18); "
      ],
      "metadata": {
        "id": "GvqnpxQtr183"
      },
      "execution_count": null,
      "outputs": []
    },
    {
      "cell_type": "code",
      "source": [
        "#confusion matrix for age guesses to answers 30-49 match\n",
        "\n",
        "cmAGE3049match = confusion_matrix(y_true_3049_match, y_pred_3049_match, normalize='all')\n",
        "\n",
        "print(cmAGE3049match)\n",
        "\n",
        "ax= plt.subplot()\n",
        "sns.heatmap(cmAGE3049match, annot=True, fmt='g', ax=ax, cmap=\"YlGnBu\", vmin=0, vmax=1);  #annot=True to annotate cells, ftm='g' to disable scientific notation\n",
        "\n",
        "# labels, title and ticks\n",
        "ax.set_xlabel('Participant Guess');ax.set_ylabel('Video Actual State'); \n",
        "ax.set_title('Confusion Matrix: 30-49 Match participants Guess vs. Actual', fontsize=18); "
      ],
      "metadata": {
        "id": "0WCFrZnyr340"
      },
      "execution_count": null,
      "outputs": []
    },
    {
      "cell_type": "code",
      "source": [
        "#matthews correlation coefficient for age guesses to answers 50-64 match\n",
        "\n",
        "y_true_5064_match = rho_age_5064_Match_answers_array\n",
        "y_pred_5064_match = rho_age_5064_Match_guess_array\n",
        "\n",
        "print(matthews_corrcoef(y_true_5064_match, y_pred_5064_match))"
      ],
      "metadata": {
        "id": "KANjgHLDr5qX"
      },
      "execution_count": null,
      "outputs": []
    },
    {
      "cell_type": "code",
      "source": [
        "#matthews correlation coefficient for age guesses to answers 50-64 mismatch\n",
        "\n",
        "y_true_5064_mismatch = rho_age_5064_MisMatch_answers_array\n",
        "y_pred_5064_mismatch = rho_age_5064_MisMatch_guess_array\n",
        "\n",
        "print(matthews_corrcoef(y_true_5064_mismatch, y_pred_5064_mismatch))\n"
      ],
      "metadata": {
        "id": "TVPwAWxcr8pP"
      },
      "execution_count": null,
      "outputs": []
    },
    {
      "cell_type": "code",
      "source": [
        "#confusion matrix for age guesses to answers 50-64 match\n",
        "\n",
        "cmAGE5064match = confusion_matrix(y_true_5064_match, y_pred_5064_match, normalize='all')\n",
        "\n",
        "print(cmAGE5064match)\n",
        "\n",
        "ax= plt.subplot()\n",
        "sns.heatmap(cmAGE5064match, annot=True, fmt='g', ax=ax, cmap=\"YlGnBu\", vmin=0, vmax=1);  #annot=True to annotate cells, ftm='g' to disable scientific notation\n",
        "\n",
        "# labels, title and ticks\n",
        "ax.set_xlabel('Participant Guess');ax.set_ylabel('Video Actual State'); \n",
        "ax.set_title('Confusion Matrix: 50-64 Match participants Guess vs. Actual', fontsize=18); "
      ],
      "metadata": {
        "id": "C-JQGQcQr9Cx"
      },
      "execution_count": null,
      "outputs": []
    },
    {
      "cell_type": "code",
      "source": [
        "#confusion matrix for age guesses to answers 50-64 mismatch\n",
        "\n",
        "cmAGE5064mismatch = confusion_matrix(y_true_5064_mismatch, y_pred_5064_mismatch, normalize='all')\n",
        "print(cmAGE5064mismatch)\n",
        "\n",
        "ax= plt.subplot()\n",
        "sns.heatmap(cmAGE5064mismatch, annot=True, fmt='g', ax=ax, cmap=\"YlGnBu\", vmin=0, vmax=1);  #annot=True to annotate cells, ftm='g' to disable scientific notation\n",
        "\n",
        "# labels, title and ticks\n",
        "ax.set_xlabel('Participant Guess');ax.set_ylabel('Video Actual State'); \n",
        "ax.set_title('Confusion Matrix: 50-64 Mismatch participants Guess vs. Actual', fontsize=18); \n"
      ],
      "metadata": {
        "id": "yZUjrDZgsDnF"
      },
      "execution_count": null,
      "outputs": []
    },
    {
      "cell_type": "code",
      "source": [
        "#matthews correlation coefficient for age guesses to answers over 65 match\n",
        "y_true_over65_match = rho_age_over65_Match_answers_array\n",
        "y_pred_over65_match = rho_age_over65_Match_guess_array\n",
        "\n",
        "print(matthews_corrcoef(y_true_over65_match, y_pred_over65_match))"
      ],
      "metadata": {
        "id": "IR_HGOlJsF8j"
      },
      "execution_count": null,
      "outputs": []
    },
    {
      "cell_type": "code",
      "source": [
        "#matthews correlation coefficient for age guesses to answers over 65 mismatch\n",
        "\n",
        "y_true_over65_mismatch = rho_age_over65_MisMatch_answers_array\n",
        "y_pred_over65_mismatch = rho_age_over65_MisMatch_guess_array\n",
        "\n",
        "print(matthews_corrcoef(y_true_over65_mismatch, y_pred_over65_mismatch))\n"
      ],
      "metadata": {
        "id": "n4d4UssJsInp"
      },
      "execution_count": null,
      "outputs": []
    },
    {
      "cell_type": "code",
      "source": [
        "#confusion matrix for age guesses to answers over 65 match\n",
        "\n",
        "cmAGEover65match = confusion_matrix(y_true_over65_match, y_pred_over65_match, normalize='all')\n",
        "\n",
        "print(cmAGEover65match)\n",
        "\n",
        "ax= plt.subplot()\n",
        "sns.heatmap(cmAGEover65match, annot=True, fmt='g', ax=ax, cmap=\"YlGnBu\", vmin=0, vmax=1);  #annot=True to annotate cells, ftm='g' to disable scientific notation\n",
        "\n",
        "# labels, title and ticks\n",
        "ax.set_xlabel('Participant Guess');ax.set_ylabel('Video Actual State'); \n",
        "ax.set_title('Confusion Matrix: over65 Match participants Guess vs. Actual', fontsize=18); "
      ],
      "metadata": {
        "id": "feYrTjzhsJFE"
      },
      "execution_count": null,
      "outputs": []
    },
    {
      "cell_type": "code",
      "source": [
        "#confusion matrix for age guesses to answers over 65 mismatch\n",
        "\n",
        "cmAGEover65mismatch = confusion_matrix(y_true_over65_mismatch, y_pred_over65_mismatch, normalize='all')\n",
        "print(cmAGEover65mismatch)\n",
        "\n",
        "\n",
        "ax= plt.subplot()\n",
        "sns.heatmap(cmAGEover65mismatch, annot=True, fmt='g', ax=ax, cmap=\"YlGnBu\", vmin=0, vmax=1);  #annot=True to annotate cells, ftm='g' to disable scientific notation\n",
        "\n",
        "# labels, title and ticks\n",
        "ax.set_xlabel('Participant Guess');ax.set_ylabel('Video Actual State'); \n",
        "ax.set_title('Confusion Matrix: over65 Mismatch participants Guess vs. Actual', fontsize=18); "
      ],
      "metadata": {
        "id": "HugygwMSsLws"
      },
      "execution_count": null,
      "outputs": []
    },
    {
      "cell_type": "code",
      "source": [
        "#matthews correlation coefficient for age guesses to answers 50-64 match\n",
        "\n",
        "y_true_5064_match = rho_age_5064_Match_answers_array\n",
        "y_pred_5064_match = rho_age_5064_Match_guess_array\n",
        "\n",
        "print(matthews_corrcoef(y_true_5064_match, y_pred_5064_match))"
      ],
      "metadata": {
        "id": "uzSLC5YosNxl"
      },
      "execution_count": null,
      "outputs": []
    },
    {
      "cell_type": "code",
      "source": [
        "#matthews correlation coefficient for age guesses to answers 50-64 mismatch\n",
        "\n",
        "y_true_5064_mismatch = rho_age_5064_MisMatch_answers_array\n",
        "y_pred_5064_mismatch = rho_age_5064_MisMatch_guess_array\n",
        "\n",
        "print(matthews_corrcoef(y_true_5064_mismatch, y_pred_5064_mismatch))\n"
      ],
      "metadata": {
        "id": "pIP_BsG8sRfm"
      },
      "execution_count": null,
      "outputs": []
    },
    {
      "cell_type": "code",
      "source": [
        "#confusion matrix for age guesses to answers 50-64 mismatch\n",
        "\n",
        "cmAGE5064mismatch = confusion_matrix(y_true_5064_mismatch, y_pred_5064_mismatch, normalize='all')\n",
        "\n",
        "print(cmAGE5064mismatch)\n",
        "\n",
        "ax= plt.subplot()\n",
        "sns.heatmap(cmAGE5064mismatch, annot=True, fmt='g', ax=ax, cmap=\"YlGnBu\", vmin=0, vmax=1);  #annot=True to annotate cells, ftm='g' to disable scientific notation\n",
        "\n",
        "# labels, title and ticks\n",
        "ax.set_xlabel('Participant Guess');ax.set_ylabel('Video Actual State'); \n",
        "ax.set_title('Confusion Matrix: 50-64 Mismatch participants Guess vs. Actual', fontsize=18); "
      ],
      "metadata": {
        "id": "IDIAHgB7sUSQ"
      },
      "execution_count": null,
      "outputs": []
    },
    {
      "cell_type": "code",
      "source": [
        "#confusion matrix for age guesses to answers 50-64 match\n",
        "\n",
        "cmAGE5064match = confusion_matrix(y_true_5064_match, y_pred_5064_match, normalize='all')\n",
        "print(cmAGE5064match)\n",
        "\n",
        "ax= plt.subplot()\n",
        "sns.heatmap(cmAGE5064match, annot=True, fmt='g', ax=ax, cmap=\"YlGnBu\", vmin=0, vmax=1);  #annot=True to annotate cells, ftm='g' to disable scientific notation\n",
        "\n",
        "# labels, title and ticks\n",
        "ax.set_xlabel('Participant Guess');ax.set_ylabel('Video Actual State'); \n",
        "ax.set_title('Confusion Matrix: 50-64 Match participants Guess vs. Actual', fontsize=18); "
      ],
      "metadata": {
        "id": "OKZd8K1PsWyg"
      },
      "execution_count": null,
      "outputs": []
    },
    {
      "cell_type": "markdown",
      "source": [
        "#Baselines "
      ],
      "metadata": {
        "id": "9iIilqz4sbpG"
      }
    },
    {
      "cell_type": "code",
      "source": [
        "#the function returns matched participants guesses and the actual answers to the video being real or not\n",
        "\n",
        "##male POC \n",
        "def rho_Male_POC_guesses(x):\n",
        "  if x['Part_Male_POC'] == 1:\n",
        "    return x['Part_Guessed_Vid_Fake_to_nom']\n",
        "  else:\n",
        "    return np.nan\n",
        "\n",
        "AllVids_encodeddata['rho_Male_POC_guesses'] = AllVids_encodeddata.apply(rho_Male_POC_guesses, axis=1)\n",
        "\n",
        "def rho_Male_POC_answers(x):\n",
        "  if x['Part_Male_POC'] == 1:\n",
        "    return x['is_fake']\n",
        "  else:\n",
        "    return np.nan\n",
        "\n",
        "AllVids_encodeddata['rho_Male_POC_answers'] = AllVids_encodeddata.apply(rho_Male_POC_answers, axis=1)\n",
        "\n",
        "##Woman POC  \n",
        "def rho_Woman_POC_guesses(x):\n",
        "  if x['Part_Woman_POC'] == 1:\n",
        "    return x['Part_Guessed_Vid_Fake_to_nom']\n",
        "  else:\n",
        "    return np.nan\n",
        "\n",
        "AllVids_encodeddata['rho_Woman_POC_guesses'] = AllVids_encodeddata.apply(rho_Woman_POC_guesses, axis=1)\n",
        "\n",
        "def rho_Woman_POC_answers(x):\n",
        "  if x['Part_Woman_POC'] == 1:\n",
        "    return x['is_fake']\n",
        "  else:\n",
        "    return np.nan\n",
        "\n",
        "AllVids_encodeddata['rho_Woman_POC_answers'] = AllVids_encodeddata.apply(rho_Woman_POC_answers, axis=1)\n",
        "\n",
        "##Woman white \n",
        "\n",
        "def rho_Woman_White_guesses(x):\n",
        "  if x['Part_Woman_White'] == 1:\n",
        "    return x['Part_Guessed_Vid_Fake_to_nom']\n",
        "  else:\n",
        "    return np.nan\n",
        "\n",
        "AllVids_encodeddata['rho_Woman_White_guesses'] = AllVids_encodeddata.apply(rho_Woman_White_guesses, axis=1)\n",
        "\n",
        "\n",
        "def rho_Woman_White_answers(x):\n",
        "  if x['Part_Woman_White'] == 1:\n",
        "    return x['is_fake']\n",
        "  else:\n",
        "    return np.nan\n",
        "\n",
        "AllVids_encodeddata['rho_Woman_White_answers'] = AllVids_encodeddata.apply(rho_Woman_White_answers, axis=1)\n",
        "\n",
        "##male white\n",
        "def rho_Male_White_guesses(x):\n",
        "  if x['Part_Male_White'] == 1:\n",
        "    return x['Part_Guessed_Vid_Fake_to_nom']\n",
        "  else:\n",
        "    return np.nan\n",
        "\n",
        "AllVids_encodeddata['rho_Male_White_guesses'] = AllVids_encodeddata.apply(rho_Male_White_guesses, axis=1)\n",
        "\n",
        "def rho_Male_White_answers(x):\n",
        "  if x['Part_Male_White'] == 1:\n",
        "    return x['is_fake']\n",
        "  else:\n",
        "    return np.nan\n",
        "\n",
        "AllVids_encodeddata['rho_Male_White_answers'] = AllVids_encodeddata.apply(rho_Male_White_answers, axis=1)\n",
        "\n"
      ],
      "metadata": {
        "id": "cHYoA2C1scyh"
      },
      "execution_count": null,
      "outputs": []
    },
    {
      "cell_type": "code",
      "source": [
        "#array for baseline user groups\n",
        "rho_Male_White_guesses_array = np.array(AllVids_encodeddata['rho_Male_White_guesses'].dropna())\n",
        "rho_Male_White_answers_array = np.array(AllVids_encodeddata['rho_Male_White_answers'].dropna())\n",
        "\n",
        "\n",
        "rho_Male_POC_guesses_array = np.array(AllVids_encodeddata['rho_Male_POC_guesses'].dropna())\n",
        "rho_Male_POC_answers_array = np.array(AllVids_encodeddata['rho_Male_POC_answers'].dropna())\n",
        "\n",
        "\n",
        "rho_Woman_White_guesses_array = np.array(AllVids_encodeddata['rho_Woman_White_guesses'].dropna())\n",
        "rho_Woman_White_answers_array = np.array(AllVids_encodeddata['rho_Woman_White_answers'].dropna())\n",
        "\n",
        "rho_Woman_POC_guesses_array = np.array(AllVids_encodeddata['rho_Woman_POC_guesses'].dropna())\n",
        "rho_Woman_POC_answers_array = np.array(AllVids_encodeddata['rho_Woman_POC_answers'].dropna())\n"
      ],
      "metadata": {
        "id": "7ErkF2_Jsel4"
      },
      "execution_count": null,
      "outputs": []
    },
    {
      "cell_type": "code",
      "source": [
        "#spearman correlation coefficient for women poc guesses to answers \n",
        "corr4spearman_Woman_POC = scipy.stats.spearmanr(rho_Woman_POC_guesses_array, rho_Woman_POC_answers_array)\n",
        "print(corr4spearman_Woman_POC)"
      ],
      "metadata": {
        "id": "SxdSQ7KrsgPo"
      },
      "execution_count": null,
      "outputs": []
    },
    {
      "cell_type": "code",
      "source": [
        "#spearman correlation coefficient for women white guesses to answers \n",
        "corr4spearman_Woman_White = scipy.stats.spearmanr(rho_Woman_White_guesses_array, rho_Woman_White_answers_array)\n",
        "print(corr4spearman_Woman_White)"
      ],
      "metadata": {
        "id": "RaomP3pKso8o"
      },
      "execution_count": null,
      "outputs": []
    },
    {
      "cell_type": "code",
      "source": [
        "#spearman correlation coefficient for male POC guesses to answers \n",
        "corr4spearman_Male_POC = scipy.stats.spearmanr(rho_Male_POC_guesses_array, rho_Male_POC_answers_array)\n",
        "print(corr4spearman_Male_POC)\n"
      ],
      "metadata": {
        "id": "eBT1LPCRsqu8"
      },
      "execution_count": null,
      "outputs": []
    },
    {
      "cell_type": "code",
      "source": [
        "#spearman correlation coefficient for male white guesses to answers \n",
        "corr4spearman_Male_White = scipy.stats.spearmanr(rho_Male_White_guesses_array, rho_Male_White_answers_array)\n",
        "print(corr4spearman_Male_White)"
      ],
      "metadata": {
        "id": "3J9e_YTAs3Is"
      },
      "execution_count": null,
      "outputs": []
    },
    {
      "cell_type": "code",
      "source": [
        "#matthews correlation coefficient for women poc answers to guesses \n",
        "y_true_WomanPOC = rho_Woman_POC_answers_array\n",
        "y_pred_WomanPOC = rho_Woman_POC_guesses_array\n",
        "\n",
        "print(matthews_corrcoef(y_true_WomanPOC, y_pred_WomanPOC))\n",
        "\n",
        "#matthews correlation coefficient for women white answers to guesses \n",
        "y_true_WomanWhite = rho_Woman_White_answers_array\n",
        "y_pred_WomanWhite = rho_Woman_White_guesses_array\n",
        "\n",
        "print(matthews_corrcoef(y_true_WomanWhite, y_pred_WomanWhite))\n",
        "\n",
        "#confusion matrix for women white answers to guesses \n",
        "cmwomanwhite = confusion_matrix(y_true_WomanWhite, y_pred_WomanWhite, normalize='all')\n",
        "print(cmwomanwhite)\n",
        "\n",
        "#confusion matrix for women POC answers to guesses \n",
        "cmwomanPOC = confusion_matrix(y_true_WomanPOC, y_pred_WomanPOC, normalize='all')\n",
        "print(cmwomanPOC)"
      ],
      "metadata": {
        "id": "0DK-EHCcs5NP"
      },
      "execution_count": null,
      "outputs": []
    },
    {
      "cell_type": "code",
      "source": [
        "#matthews correlation coefficient for male POC answers to guesses \n",
        "\n",
        "y_true_MalePOC = rho_Male_POC_answers_array\n",
        "y_pred_MalePOC = rho_Male_POC_guesses_array\n",
        "\n",
        "print(matthews_corrcoef(y_true_MalePOC, y_pred_MalePOC))\n",
        "\n",
        "#matthews correlation coefficient for male white answers to guesses \n",
        "\n",
        "y_true_MaleWhite = rho_Male_White_answers_array\n",
        "y_pred_MaleWhite = rho_Male_White_guesses_array\n",
        "\n",
        "print(matthews_corrcoef(y_true_MaleWhite, y_pred_MaleWhite))\n",
        "\n",
        "#confusion matrix for male POC answers to guesses \n",
        "\n",
        "cmmalePOC = confusion_matrix(y_true_MalePOC, y_pred_MalePOC, normalize='all')\n",
        "print(cmmalePOC)\n",
        "\n",
        "#confusion matrix for male white answers to guesses \n",
        "\n",
        "cmmaleWhite = confusion_matrix(y_true_MaleWhite, y_pred_MaleWhite, normalize='all')\n",
        "print(cmmaleWhite)"
      ],
      "metadata": {
        "id": "s401S4mgs8RW"
      },
      "execution_count": null,
      "outputs": []
    },
    {
      "cell_type": "markdown",
      "source": [
        "#Other variables of interest, accuracy"
      ],
      "metadata": {
        "id": "2Ka1JJPotBZN"
      }
    },
    {
      "cell_type": "code",
      "source": [
        "#array for accuracy variables \n",
        "rho_guesses_array = np.array(AllVids_encodeddata['Part_Guessed_Vid_Fake_to_nom'].dropna())\n",
        "rho_answers_array = np.array(AllVids_encodeddata['is_fake'].dropna())"
      ],
      "metadata": {
        "id": "ctApY0uws_S1"
      },
      "execution_count": null,
      "outputs": []
    },
    {
      "cell_type": "code",
      "source": [
        "#spearman correlation coefficient for guesses to answers \n",
        "\n",
        "corr4spearman_guessacc = scipy.stats.spearmanr(rho_guesses_array, rho_answers_array)\n",
        "print(corr4spearman_guessacc)\n"
      ],
      "metadata": {
        "id": "OGxuEac3tHBW"
      },
      "execution_count": null,
      "outputs": []
    },
    {
      "cell_type": "code",
      "source": [
        "#matthews correlation coefficient for answers to guesses \n",
        "\n",
        "y_true_guessac = rho_answers_array\n",
        "y_pred_guessacc = rho_guesses_array\n",
        "\n",
        "print(matthews_corrcoef(y_true_guessac, y_pred_guessacc))\n",
        "\n",
        "cmmaleguessacc = confusion_matrix(y_true_guessac, y_pred_guessacc, normalize='all')\n",
        "print(cmmaleguessacc)"
      ],
      "metadata": {
        "id": "20XGamPUtI2z"
      },
      "execution_count": null,
      "outputs": []
    },
    {
      "cell_type": "code",
      "source": [
        "#confusion matrix for male white answers to guesses \n",
        "\n",
        "cmall = confusion_matrix(y_true_guessac, y_pred_guessacc, normalize='all')\n",
        "print(cmall)\n",
        "\n",
        "ax= plt.subplot()\n",
        "sns.heatmap(cmall, annot=True, fmt='g', ax=ax, cmap=\"YlGnBu\", vmin=0, vmax=1);  #annot=True to annotate cells, ftm='g' to disable scientific notation\n",
        "\n",
        "# labels, title and ticks\n",
        "ax.set_xlabel('Participant Guess');ax.set_ylabel('Video Actual State'); \n",
        "ax.set_title('Confusion Matrix: Participants Guesses vs. Actual State of Video', fontsize=18); "
      ],
      "metadata": {
        "id": "wkgUu-TwtM4X"
      },
      "execution_count": null,
      "outputs": []
    },
    {
      "cell_type": "code",
      "source": [
        "#Accuracy score for all guesses to answers \n",
        "#(TP+TN)/(TP+FP+FN+TN) \n",
        "\n",
        "Accuracy = (TP+TN)/(TP+FP+FN+TN)\n",
        "print(Accuracy)"
      ],
      "metadata": {
        "id": "07HYFBcjtPA0"
      },
      "execution_count": null,
      "outputs": []
    },
    {
      "cell_type": "code",
      "source": [
        "#guess types \n",
        "def guessaccuracy(x):\n",
        "  if x['Real_Guess_Real'] == 1 :\n",
        "    return 'Video Real/Guess Real'\n",
        "  elif x['Real_Guess_Fake'] == 1:\n",
        "    return 'Video Real/Guess_Fake'\n",
        "  elif x['Fake_Guess_Real'] == 1:\n",
        "    return 'Video Fake/Guess_Real'\n",
        "  elif x['Fake_Guess_Fake'] == 1:\n",
        "    return 'Video Fake/Guess_Fake'\n",
        "\n",
        "AllVids_encodeddata['guessaccuracy'] = AllVids_encodeddata.apply(guessaccuracy, axis=1)\n",
        "print(AllVids_encodeddata['guessaccuracy'].unique())"
      ],
      "metadata": {
        "id": "PmrXfW1mtT4z"
      },
      "execution_count": null,
      "outputs": []
    },
    {
      "cell_type": "code",
      "source": [
        "#plot number of guess types \n",
        "plt.figure(figsize=[7, 7])\n",
        "col_map = plt.get_cmap('Paired')\n",
        "\n",
        "data = AllVids_encodeddata['guessaccuracy'].value_counts() \n",
        "\n",
        "ax = data.sort_values().plot(kind = 'barh', color=col_map.colors)\n",
        "ax.set_xlabel('Count');ax.set_ylabel('Guess Type'); \n",
        "ax.set_title('Survey Participant Guess By Type', multialignment='center', fontsize=18);  \n",
        "plt.show()"
      ],
      "metadata": {
        "id": "17zRefHXtWBx"
      },
      "execution_count": null,
      "outputs": []
    }
  ]
}