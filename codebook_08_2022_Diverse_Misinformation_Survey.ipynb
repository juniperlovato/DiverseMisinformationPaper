{
  "nbformat": 4,
  "nbformat_minor": 0,
  "metadata": {
    "colab": {
      "provenance": [],
      "collapsed_sections": [],
      "authorship_tag": "ABX9TyMMGAyVaJ+q175gvPOotAZX",
      "include_colab_link": true
    },
    "kernelspec": {
      "name": "python3",
      "display_name": "Python 3"
    },
    "language_info": {
      "name": "python"
    }
  },
  "cells": [
    {
      "cell_type": "markdown",
      "metadata": {
        "id": "view-in-github",
        "colab_type": "text"
      },
      "source": [
        "<a href=\"https://colab.research.google.com/github/juniperlovato/DiverseMisinformationPaper/blob/main/codebook_08_2022_Diverse_Misinformation_Survey.ipynb\" target=\"_parent\"><img src=\"https://colab.research.google.com/assets/colab-badge.svg\" alt=\"Open In Colab\"/></a>"
      ]
    },
    {
      "cell_type": "markdown",
      "source": [
        "* Title: Diverse Misinformation: impacts of human biases on detection of deepfakes on online social networks\n",
        "* Cite as: Lovato et al. Diverse Misinformation: impacts of human biases on detection of deepfakes on online social networks (2022). \n",
        "* link to ArXiv pre-print [coming soon] \n",
        "* Contact: Juniper Lovato, University of Vermont, jlovato@uvm.edu \n",
        "* Authors and data collectors: Juniper Lovato1, Laurent H ́ebert-Dufresne1,2, Jonathan St-Onge1, Randall Harp1,3, , Gabriela Salazar Lopez1, Ijaz Ul Haq1, Sean Rogers1, AnneMarie Stupinski1, and Jeremiah Onaolapo. 1Vermont Complex Systems Center, University of Vermont, Burlington, 05405, USA2Department of Computer Science, University of Vermont, Burlington, 05405, USA3Department of Philosophy, University of Vermont, Burlington, 05405, USA\n",
        "* Data is a survey panel of US social media users, survey is conducted in English. \n",
        "* Keywords: Diversity, Privacy, Security, Social Media Behavior \n",
        "* 2022 at the University of Vermont \n",
        "* IRB CHRBSS (Behavioral) STUDY00001786 Approved 12/6/2022"
      ],
      "metadata": {
        "id": "X_Kw5TjLKlrE"
      }
    },
    {
      "cell_type": "markdown",
      "source": [
        "#Original Data Description "
      ],
      "metadata": {
        "id": "HIZ-NzlW173G"
      }
    },
    {
      "cell_type": "markdown",
      "source": [
        "DATA FILE LOCATION: University of Vermont - not currently available under IRB \n",
        "TYPE: Convenience Sample Survey\n",
        "SIZE: N=2,000 survey participants \n",
        "\n",
        "DESCRIPTIVE ABSTRACT: Online social media users are not all equally susceptible to misinformation; their level of susceptibility depends on their biases. The interplay between an observer's biases and the diverse forms of misinformation they encounter is what we call in this paper `diverse misinformation'. Our paper explores deepfakes as a type of misinformation as a means to investigate how U.S. social media users' biases generally impact susceptibility to misinformation online. We choose deepfakes as a case study of the impacts of diverse misinformation for two reasons: 1.) their status of being misinformation is binary; they either are a deepfake or are not; 2.) deepfakes are a current real-world concern with associated harms that need to be better understood. \n",
        "\n",
        "SOURCE OF SURVEY PANEL: \n",
        "Qualtrics \n",
        "\n",
        "INFO:\n",
        "comma characters are used to separate variables in the csv data file. \n",
        "memory usage: 1.1+ MB\n",
        "Int64Index: 3818 entries, 41 to 2015\n",
        "Data columns (total 85 columns):\n"
      ],
      "metadata": {
        "id": "Emb6PVW38IBI"
      }
    },
    {
      "cell_type": "markdown",
      "source": [
        "#Secondary Data Description "
      ],
      "metadata": {
        "id": "Nmxp5yasMstl"
      }
    },
    {
      "cell_type": "markdown",
      "source": [
        "Secondary Data\n",
        "\n",
        "* Source: Dolhansky, B., Howes, R., Pflaum, B., Baram, N. & Ferrer, C. The deepfake detection challenge (dfdc) preview dataset(2019). 1910.08854. Openly accessile. \n",
        "*   Summary: For this project we use the publicly available Facebook AI Research Deepfake Detection Challenge (DFDC) preview data set (N = 5,000 video clips). The video clips provided may be deepfake or real. Additionally, the video clips provided may have been purposefully altered through several means, see list of augmenters and Distractors below. A video's deepfake status (deepfake or not) will not be revealed to the respondent during or after such a survey. Many augmenters and distractors will be noticeable to the respondent, but they shall not be specifically revealed.\n",
        "\n",
        "*   RangeIndex: 5000 entries, 0 to 4999\n",
        "*   Data columns (total 28 columns):\n",
        "*   dtypes: int64(1), object(27)\n",
        "*   memory usage: 1.1+ MB"
      ],
      "metadata": {
        "id": "e9mg732UMwL-"
      }
    },
    {
      "cell_type": "markdown",
      "source": [
        "# Code Book for Primary Data"
      ],
      "metadata": {
        "id": "YgEXur7n2Cll"
      }
    },
    {
      "cell_type": "markdown",
      "source": [
        "*   Column, Dtype,Description\n",
        "*   is_fake,Binary ,Is a deepfake video\n",
        "*   is_not_fake,Binary ,Is not a deepfake video\n",
        "*   Gaze_to_ord_scale,Scale,Likert scale from unpleasant to pleasant - Video's Gaze\n",
        "*   Facial_expression_to_ord_scale,Scale,Likert scale from unpleasant to   pleasant - Video's facial expression\n",
        "*   Pose_to_ord_scale,Scale,Likert scale from unpleasant to pleasant - *   Video's pose\n",
        "*   Personality_to_ord_scale,Scale,Likert scale from unpleasant to pleasant - Video's Personality\n",
        "*   Hair_to_ord_scale,Scale,Likert scale from unpleasant to pleasant - Video's Hair\n",
        "*   Style_to_ord_scale,Scale,Likert scale from unpleasant to pleasant - Video's Style\n",
        "*   Age_to_ord_scale,Scale,Likert scale from unpleasant to pleasant - Video's Age\n",
        "*   Background_environment_to_ord_scale,Scale,Likert scale from unpleasant to pleasant - Video's Background Environment\n",
        "*   Behavior_to_ord_scale,Scale,Likert scale from unpleasant to pleasant - Video's Behavior\n",
        "*   Movement_to_ord_scale,Scale,Likert scale from unpleasant to pleasant - Video's Movement\n",
        "*   voice_to_ord_scale,Scale,Likert scale from unpleasant to pleasant - Video's Voice\n",
        "*   tone_to_ord_scale,Scale,Likert scale from unpleasant to pleasant - Video's Tone\n",
        "*   Part_education_level_to_ord_scale,Scale,Education Levels of Participant\n",
        "income_to_ord_scale,Scale,Income Levels of Participant\n",
        "*   part_social_media_use_to_ord_scale,Scale,How often the participant uses social media \n",
        "*   part_knowledge_deepfake_to_ord_scale,Scale,How much the participant knows about deepfakes\n",
        "*   Part_Primed_to_nom,Binary ,Did the participant knew the survey was about deepfakes before taking it\n",
        "*   Part_Guessed_Vid_Real_to_nom,Binary ,Participant guess the video was real \n",
        "*   Part_NOT_Primed_to_nom,Binary ,Did the participant didn't know the survey was about deepfakes before taking it\n",
        "*   Part_Guessed_Vid_Fake_to_nom,Binary ,Participant guess the video was fake \n",
        "*   Part_Gender_Men,Binary ,Participant was male (non-binary options were included by N was too small so we dropped the column) \n",
        "*   Part_Gender_Woman,Binary ,Participant was female  v\n",
        "*   Part_Age_18_29,Binary ,Participant is in the age group 18-29\n",
        "*   Part_Age_30_49,Binary ,Participant is in the age group 30-49\n",
        "*   Part_Age_50_64,Binary ,Participant is in the age group 50-64\n",
        "*   Part_Age_65plus,Binary ,Participant is in the age group over 65\n",
        "*   part_region_Middle_Atlantic,Binary ,Participant lives in the middle atlantic  USregion\n",
        "*   part_region_Midwest,,Binary ,Participant lives in the midwest US region\n",
        "*   part_region_South,Binary ,Participant lives in the southen US region\n",
        "*   part_region_Southwest,Binary ,Participant lives in the southwest US region\n",
        "*   part_region_newengland,Binary ,Participant lives in the newengland US region\n",
        "*   part_region_west,Binary ,Participant lives in the west US region\n",
        "*   Gender_Guess_Men,Binary ,Participant guessed the video person(a) was male (non-binary options were included by N was too small so we dropped the column) \n",
        "*   Gender_Guess_WomenBinary ,Participant guessed the video person(a) was female (non-binary options were included by N was too small so we dropped the column) \n",
        "*   age_guess_18_29,Binary ,Participant guessed that the video person(a) is in the age group 18-29\n",
        "*   age_guess_30_49,Binary ,Participant guessed that the video person(a)  is in the age group 30-49\n",
        "*   age_guess_50_64,Binary ,Participant guessed that the video person(a)  is in the age group 50-64\n",
        "*   age_guess_65plus,Binary ,Participant guessed that the video person(a)  is in the age group over 65\n",
        "*   part_race_POC,Binary ,Participant identifies as a person of color (POC)\n",
        "*   part_race_White,Binary ,Participant identifies as white \n",
        "*   POC_Guess_No,Binary ,Participant guessed that the video person(a) is not a person of color (POC)\n",
        "*   POC_Guess_yes,Binary ,Participant guessed that the video person(a) is a person of color (POC)\n",
        "*   Real_Guess_Real,Binary ,Participant guessed the video is real and the video is indeed real\n",
        "*   Fake_Guess_Real,Binary ,Participant guessed the video is fake and the video is actually real\n",
        "*   Real_Guess_Fake,Binary ,Participant guessed the video is real and the video is actually fake\n",
        "*   Fake_Guess_Fake,Binary ,Participant guessed the video is fake and the video is indeed fake\n",
        "*   Part_Woman_POC,Binary ,Participant identifies as a female and a person of color\n",
        "*   Part_Male_POC,Binary ,Participant identifies as a male and a person of color\n",
        "*   Part_Woman_White,Binary ,Participant identifies as a female and white\n",
        "*   Part_Male_White,Binary ,Participant identifies as a male and white\n",
        "*   Woman_POC,Binary ,Participant identifies as a female and a person of color\n",
        "*   Woman_White,Binary ,Participant identifies as a female and white\n",
        "*   Male_POC_Match,Binary ,Participant identifies as a male person of color and identified the video person(a) as also being a male person of color\n",
        "*   Woman_POC_Match,Binary ,Participant identifies as a female person of color and identified the video person(a) as also being a female person of color\n",
        "*   Woman_White_Match,Binary ,Participant identifies as a white female and identified the video person(a) as also being a white female \n",
        "*   Male_White_Match,Binary ,Participant identifies as a white male and identified the video person(a) as also being a white male \n",
        "*   age_1829_Match,Binary ,Participant is age 18-29 and identified the video person(a) as also being age 18-29\n",
        "*   age_3049_Match,Binary ,Participant is age 30-49 and identified the video person(a) as also being age 30-49\n",
        "*   age_5064_Match,Binary ,Participant is age 50-64 and identified the video person(a) as also being age 50-64\n",
        "*   age_over65_Match,Binary ,Participant is age over 65 and identified the video person(a) as also being age over 65\n",
        "*   Male_POC_MisMatch,Binary ,Participant identifies as a male person of color and identified the video person(a) as not being a male person of color\n",
        "*   Woman_POC_MisMatch,Binary ,Participant identifies as a female person of color and identified the video person(a) as not being a female person of color\n",
        "*   Woman_White_MisMatch,Binary ,Participant identifies as a white female and identified the video person(a) as not being a white female \n",
        "*   Male_White_MisMatch,Binary ,Participant identifies as a white male and identified the video person(a) as not being a white male \n",
        "*   age_1829_MisMatch,Binary ,Participant is age 18-29 and identified the video person(a) as not being age 18-29\n",
        "*   age_3049_MisMatch,Binary ,Participant is age 30-49 and identified the video person(a) as not being age 30-49\n",
        "*   age_5064_MisMatch,Binary ,Participant is age 50-64 and identified the video person(a) as not being age 50-64\n",
        "*   age_over65_MisMatch,Binary ,Participant is age over 65 and identified the video person(a) as not being age over 65\n",
        "\n",
        "\n"
      ],
      "metadata": {
        "id": "8daAhf6_W7NI"
      }
    }
  ]
}